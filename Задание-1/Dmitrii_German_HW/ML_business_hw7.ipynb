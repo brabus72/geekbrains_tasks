{
 "cells": [
  {
   "cell_type": "markdown",
   "metadata": {
    "colab_type": "text",
    "id": "HrxZEq_-FHNq"
   },
   "source": [
    "## Предобработка данных"
   ]
  },
  {
   "cell_type": "code",
   "execution_count": 1,
   "metadata": {
    "colab": {
     "base_uri": "https://localhost:8080/",
     "height": 34
    },
    "colab_type": "code",
    "id": "eu9I-5AQFGy4",
    "outputId": "454daf5c-a46b-4d56-fcb6-719230d888c0"
   },
   "outputs": [],
   "source": [
    "# Подключение к Google drive\n",
    "\n",
    "#from google.colab import drive\n",
    "#drive.mount('/content/drive')"
   ]
  },
  {
   "cell_type": "code",
   "execution_count": 2,
   "metadata": {
    "colab": {},
    "colab_type": "code",
    "id": "Fj2E6mVkFR10"
   },
   "outputs": [],
   "source": [
    "import numpy as np\n",
    "import pandas as pd"
   ]
  },
  {
   "cell_type": "code",
   "execution_count": 3,
   "metadata": {
    "colab": {
     "base_uri": "https://localhost:8080/",
     "height": 476
    },
    "colab_type": "code",
    "id": "_Vs8YR9eFgvy",
    "outputId": "3dc9515d-b909-48d0-a5d5-bee1e82e3f1e"
   },
   "outputs": [
    {
     "name": "stdout",
     "output_type": "stream",
     "text": [
      "<class 'pandas.core.frame.DataFrame'>\n",
      "RangeIndex: 115155 entries, 0 to 115154\n",
      "Data columns (total 20 columns):\n",
      " #   Column             Non-Null Count   Dtype  \n",
      "---  ------             --------------   -----  \n",
      " 0   Exposure           115155 non-null  float64\n",
      " 1   LicAge             115155 non-null  int64  \n",
      " 2   RecordBeg          115155 non-null  object \n",
      " 3   RecordEnd          59455 non-null   object \n",
      " 4   Gender             115155 non-null  object \n",
      " 5   MariStat           115155 non-null  object \n",
      " 6   SocioCateg         115155 non-null  object \n",
      " 7   VehUsage           115155 non-null  object \n",
      " 8   DrivAge            115155 non-null  int64  \n",
      " 9   HasKmLimit         115155 non-null  int64  \n",
      " 10  BonusMalus         115155 non-null  int64  \n",
      " 11  ClaimAmount        115155 non-null  float64\n",
      " 12  ClaimInd           115155 non-null  int64  \n",
      " 13  ClaimNbResp        115155 non-null  float64\n",
      " 14  ClaimNbNonResp     115155 non-null  float64\n",
      " 15  ClaimNbParking     115155 non-null  float64\n",
      " 16  ClaimNbFireTheft   115155 non-null  float64\n",
      " 17  ClaimNbWindscreen  115155 non-null  float64\n",
      " 18  OutUseNb           115155 non-null  float64\n",
      " 19  RiskArea           115155 non-null  float64\n",
      "dtypes: float64(9), int64(5), object(6)\n",
      "memory usage: 17.6+ MB\n"
     ]
    }
   ],
   "source": [
    "# Загрузим набор данных\n",
    "\n",
    "df = pd.read_csv('freMPL-R.csv', low_memory=False)\n",
    "df = df.loc[df.Dataset.isin([5, 6, 7, 8, 9])]\n",
    "df.drop('Dataset', axis=1, inplace=True)\n",
    "df.dropna(axis=1, how='all', inplace=True)\n",
    "df.drop_duplicates(inplace=True)\n",
    "df.reset_index(drop=True, inplace=True)\n",
    "df.info()"
   ]
  },
  {
   "cell_type": "markdown",
   "metadata": {
    "colab_type": "text",
    "id": "AtfDb_BWWXqQ"
   },
   "source": [
    "В предыдущем уроке мы заметили отрицательную величину убытка для некоторых наблюдений. Заметим, что для всех таких полисов переменная \"ClaimInd\" принимает только значение 0. Поэтому заменим все соответствующие значения \"ClaimAmount\" нулями."
   ]
  },
  {
   "cell_type": "code",
   "execution_count": 4,
   "metadata": {
    "colab": {
     "base_uri": "https://localhost:8080/",
     "height": 221
    },
    "colab_type": "code",
    "id": "AklwJWsoWnAV",
    "outputId": "1d28ed4c-6505-48c4-cee6-8ce57670625b"
   },
   "outputs": [
    {
     "name": "stdout",
     "output_type": "stream",
     "text": [
      "Unique values of ClaimInd: [0]\n"
     ]
    },
    {
     "data": {
      "text/html": [
       "<div>\n",
       "<style scoped>\n",
       "    .dataframe tbody tr th:only-of-type {\n",
       "        vertical-align: middle;\n",
       "    }\n",
       "\n",
       "    .dataframe tbody tr th {\n",
       "        vertical-align: top;\n",
       "    }\n",
       "\n",
       "    .dataframe thead th {\n",
       "        text-align: right;\n",
       "    }\n",
       "</style>\n",
       "<table border=\"1\" class=\"dataframe\">\n",
       "  <thead>\n",
       "    <tr style=\"text-align: right;\">\n",
       "      <th></th>\n",
       "      <th>ClaimAmount</th>\n",
       "      <th>ClaimInd</th>\n",
       "    </tr>\n",
       "  </thead>\n",
       "  <tbody>\n",
       "    <tr>\n",
       "      <th>82</th>\n",
       "      <td>-74.206042</td>\n",
       "      <td>0</td>\n",
       "    </tr>\n",
       "    <tr>\n",
       "      <th>175</th>\n",
       "      <td>-1222.585196</td>\n",
       "      <td>0</td>\n",
       "    </tr>\n",
       "    <tr>\n",
       "      <th>177</th>\n",
       "      <td>-316.288822</td>\n",
       "      <td>0</td>\n",
       "    </tr>\n",
       "    <tr>\n",
       "      <th>363</th>\n",
       "      <td>-666.758610</td>\n",
       "      <td>0</td>\n",
       "    </tr>\n",
       "    <tr>\n",
       "      <th>375</th>\n",
       "      <td>-1201.600604</td>\n",
       "      <td>0</td>\n",
       "    </tr>\n",
       "  </tbody>\n",
       "</table>\n",
       "</div>"
      ],
      "text/plain": [
       "     ClaimAmount  ClaimInd\n",
       "82    -74.206042         0\n",
       "175 -1222.585196         0\n",
       "177  -316.288822         0\n",
       "363  -666.758610         0\n",
       "375 -1201.600604         0"
      ]
     },
     "execution_count": 4,
     "metadata": {},
     "output_type": "execute_result"
    }
   ],
   "source": [
    "NegClaimAmount = df.loc[df.ClaimAmount < 0, ['ClaimAmount','ClaimInd']]\n",
    "print('Unique values of ClaimInd:', NegClaimAmount.ClaimInd.unique())\n",
    "NegClaimAmount.head()"
   ]
  },
  {
   "cell_type": "code",
   "execution_count": 5,
   "metadata": {
    "colab": {},
    "colab_type": "code",
    "id": "R7laRWoCYF4V"
   },
   "outputs": [],
   "source": [
    "df.loc[df.ClaimAmount < 0, 'ClaimAmount'] = 0"
   ]
  },
  {
   "cell_type": "markdown",
   "metadata": {
    "colab_type": "text",
    "id": "6VuWyv7EGONj"
   },
   "source": [
    "Перекодируем переменные типа `object` с помощью числовых значений"
   ]
  },
  {
   "cell_type": "code",
   "execution_count": 6,
   "metadata": {
    "colab": {},
    "colab_type": "code",
    "id": "yivIrqGaGbSa"
   },
   "outputs": [],
   "source": [
    "def SeriesFactorizer(series):\n",
    "    series, unique = pd.factorize(series)\n",
    "    reference = {x: i for x, i in enumerate(unique)}\n",
    "    print(reference)\n",
    "    return series, reference"
   ]
  },
  {
   "cell_type": "code",
   "execution_count": 7,
   "metadata": {
    "colab": {
     "base_uri": "https://localhost:8080/",
     "height": 34
    },
    "colab_type": "code",
    "id": "G3SgrIBXGe3J",
    "outputId": "7bf5de6b-d50b-420b-9800-f8065be9ce86"
   },
   "outputs": [
    {
     "name": "stdout",
     "output_type": "stream",
     "text": [
      "{0: 'Male', 1: 'Female'}\n"
     ]
    }
   ],
   "source": [
    "df.Gender, GenderRef = SeriesFactorizer(df.Gender)"
   ]
  },
  {
   "cell_type": "code",
   "execution_count": 8,
   "metadata": {
    "colab": {
     "base_uri": "https://localhost:8080/",
     "height": 34
    },
    "colab_type": "code",
    "id": "HD6_Ie-2GggO",
    "outputId": "23b317dd-80fa-464d-9afa-4996d28382db"
   },
   "outputs": [
    {
     "name": "stdout",
     "output_type": "stream",
     "text": [
      "{0: 'Other', 1: 'Alone'}\n"
     ]
    }
   ],
   "source": [
    "df.MariStat, MariStatRef = SeriesFactorizer(df.MariStat)"
   ]
  },
  {
   "cell_type": "markdown",
   "metadata": {
    "colab_type": "text",
    "id": "ZdTe9JpiGvt9"
   },
   "source": [
    "Для переменных, содержащих более 2 значений, различия между которыми не могут упорядочены, используем фиктивные переменные (one-hot encoding).\n",
    "\n",
    "**NB**: В H2O не рекомендуется использовать one-hot encoding, поскольку данный фреймворк корректно работает с категориальными признаками, тогда как применение one-hot encoding приводит к неэффективности. Тем не менее, используем здесь фиктивные переменные, чтобы в дальнейшем сохранить возможность сравнения результатов построенных моделей."
   ]
  },
  {
   "cell_type": "code",
   "execution_count": 9,
   "metadata": {
    "colab": {
     "base_uri": "https://localhost:8080/",
     "height": 34
    },
    "colab_type": "code",
    "id": "VrN99Iv8Ht-G",
    "outputId": "8b11afeb-373e-44bb-fd87-adb5ba6afe01"
   },
   "outputs": [
    {
     "data": {
      "text/plain": [
       "['Professional', 'Private+trip to office', 'Private', 'Professional run']"
      ]
     },
     "execution_count": 9,
     "metadata": {},
     "output_type": "execute_result"
    }
   ],
   "source": [
    "list(df.VehUsage.unique())"
   ]
  },
  {
   "cell_type": "code",
   "execution_count": 10,
   "metadata": {
    "colab": {
     "base_uri": "https://localhost:8080/",
     "height": 204
    },
    "colab_type": "code",
    "id": "WXfZa7lUH0Jf",
    "outputId": "a4de6444-fbe2-4af2-cde7-68daf3fd4926"
   },
   "outputs": [
    {
     "data": {
      "text/html": [
       "<div>\n",
       "<style scoped>\n",
       "    .dataframe tbody tr th:only-of-type {\n",
       "        vertical-align: middle;\n",
       "    }\n",
       "\n",
       "    .dataframe tbody tr th {\n",
       "        vertical-align: top;\n",
       "    }\n",
       "\n",
       "    .dataframe thead th {\n",
       "        text-align: right;\n",
       "    }\n",
       "</style>\n",
       "<table border=\"1\" class=\"dataframe\">\n",
       "  <thead>\n",
       "    <tr style=\"text-align: right;\">\n",
       "      <th></th>\n",
       "      <th>VehUsg_Private</th>\n",
       "      <th>VehUsg_Private+trip to office</th>\n",
       "      <th>VehUsg_Professional</th>\n",
       "      <th>VehUsg_Professional run</th>\n",
       "    </tr>\n",
       "  </thead>\n",
       "  <tbody>\n",
       "    <tr>\n",
       "      <th>0</th>\n",
       "      <td>0</td>\n",
       "      <td>0</td>\n",
       "      <td>1</td>\n",
       "      <td>0</td>\n",
       "    </tr>\n",
       "    <tr>\n",
       "      <th>1</th>\n",
       "      <td>0</td>\n",
       "      <td>0</td>\n",
       "      <td>1</td>\n",
       "      <td>0</td>\n",
       "    </tr>\n",
       "    <tr>\n",
       "      <th>2</th>\n",
       "      <td>0</td>\n",
       "      <td>1</td>\n",
       "      <td>0</td>\n",
       "      <td>0</td>\n",
       "    </tr>\n",
       "    <tr>\n",
       "      <th>3</th>\n",
       "      <td>0</td>\n",
       "      <td>1</td>\n",
       "      <td>0</td>\n",
       "      <td>0</td>\n",
       "    </tr>\n",
       "    <tr>\n",
       "      <th>4</th>\n",
       "      <td>1</td>\n",
       "      <td>0</td>\n",
       "      <td>0</td>\n",
       "      <td>0</td>\n",
       "    </tr>\n",
       "  </tbody>\n",
       "</table>\n",
       "</div>"
      ],
      "text/plain": [
       "   VehUsg_Private  VehUsg_Private+trip to office  VehUsg_Professional  \\\n",
       "0               0                              0                    1   \n",
       "1               0                              0                    1   \n",
       "2               0                              1                    0   \n",
       "3               0                              1                    0   \n",
       "4               1                              0                    0   \n",
       "\n",
       "   VehUsg_Professional run  \n",
       "0                        0  \n",
       "1                        0  \n",
       "2                        0  \n",
       "3                        0  \n",
       "4                        0  "
      ]
     },
     "execution_count": 10,
     "metadata": {},
     "output_type": "execute_result"
    }
   ],
   "source": [
    "VU_dummies = pd.get_dummies(df.VehUsage, prefix='VehUsg', drop_first=False)\n",
    "VU_dummies.head()"
   ]
  },
  {
   "cell_type": "markdown",
   "metadata": {
    "colab_type": "text",
    "id": "vSlx8FxWH9P2"
   },
   "source": [
    "Фактор \"SocioCateg\" содержит информацию о социальной категории в виде кодов классификации CSP. Агрегируем имеющиеся коды до 1 знака, а затем закодируем их с помощью one-hot encoding.\n",
    "\n",
    "[Wiki](https://fr.wikipedia.org/wiki/Professions_et_cat%C3%A9gories_socioprofessionnelles_en_France#Cr%C3%A9ation_de_la_nomenclature_des_PCS)\n",
    "\n",
    "[Более подробный классификатор](https://www.ast74.fr/upload/administratif/liste-des-codes-csp-copie.pdf)"
   ]
  },
  {
   "cell_type": "code",
   "execution_count": 11,
   "metadata": {
    "colab": {
     "base_uri": "https://localhost:8080/",
     "height": 136
    },
    "colab_type": "code",
    "id": "o-JmQOrFLjt1",
    "outputId": "45959d90-a765-475c-9c45-88fdd0b91351"
   },
   "outputs": [
    {
     "data": {
      "text/plain": [
       "array(['CSP50', 'CSP55', 'CSP60', 'CSP48', 'CSP6', 'CSP66', 'CSP1',\n",
       "       'CSP46', 'CSP21', 'CSP47', 'CSP42', 'CSP37', 'CSP22', 'CSP3',\n",
       "       'CSP49', 'CSP20', 'CSP2', 'CSP40', 'CSP7', 'CSP26', 'CSP65',\n",
       "       'CSP41', 'CSP17', 'CSP57', 'CSP56', 'CSP38', 'CSP51', 'CSP59',\n",
       "       'CSP30', 'CSP44', 'CSP61', 'CSP63', 'CSP45', 'CSP16', 'CSP43',\n",
       "       'CSP39', 'CSP5', 'CSP32', 'CSP35', 'CSP73', 'CSP62', 'CSP52',\n",
       "       'CSP27', 'CSP24', 'CSP19', 'CSP70'], dtype=object)"
      ]
     },
     "execution_count": 11,
     "metadata": {},
     "output_type": "execute_result"
    }
   ],
   "source": [
    "df['SocioCateg'].unique()"
   ]
  },
  {
   "cell_type": "code",
   "execution_count": 12,
   "metadata": {
    "colab": {},
    "colab_type": "code",
    "id": "6knnpiia1a-D"
   },
   "outputs": [],
   "source": [
    "df['SocioCateg'] = df.SocioCateg.str.slice(0,4)"
   ]
  },
  {
   "cell_type": "code",
   "execution_count": 13,
   "metadata": {
    "colab": {
     "base_uri": "https://localhost:8080/",
     "height": 266
    },
    "colab_type": "code",
    "id": "Xa8XgQB306yD",
    "outputId": "dddd6cfd-9c3f-489f-ffc6-e16a2f3669f0"
   },
   "outputs": [
    {
     "data": {
      "text/html": [
       "<div>\n",
       "<style scoped>\n",
       "    .dataframe tbody tr th:only-of-type {\n",
       "        vertical-align: middle;\n",
       "    }\n",
       "\n",
       "    .dataframe tbody tr th {\n",
       "        vertical-align: top;\n",
       "    }\n",
       "\n",
       "    .dataframe thead th {\n",
       "        text-align: right;\n",
       "    }\n",
       "</style>\n",
       "<table border=\"1\" class=\"dataframe\">\n",
       "  <thead>\n",
       "    <tr style=\"text-align: right;\">\n",
       "      <th></th>\n",
       "      <th>Frequency</th>\n",
       "    </tr>\n",
       "  </thead>\n",
       "  <tbody>\n",
       "    <tr>\n",
       "      <th>CSP7</th>\n",
       "      <td>14</td>\n",
       "    </tr>\n",
       "    <tr>\n",
       "      <th>CSP3</th>\n",
       "      <td>1210</td>\n",
       "    </tr>\n",
       "    <tr>\n",
       "      <th>CSP1</th>\n",
       "      <td>2740</td>\n",
       "    </tr>\n",
       "    <tr>\n",
       "      <th>CSP2</th>\n",
       "      <td>3254</td>\n",
       "    </tr>\n",
       "    <tr>\n",
       "      <th>CSP4</th>\n",
       "      <td>7648</td>\n",
       "    </tr>\n",
       "    <tr>\n",
       "      <th>CSP6</th>\n",
       "      <td>24833</td>\n",
       "    </tr>\n",
       "    <tr>\n",
       "      <th>CSP5</th>\n",
       "      <td>75456</td>\n",
       "    </tr>\n",
       "  </tbody>\n",
       "</table>\n",
       "</div>"
      ],
      "text/plain": [
       "      Frequency\n",
       "CSP7         14\n",
       "CSP3       1210\n",
       "CSP1       2740\n",
       "CSP2       3254\n",
       "CSP4       7648\n",
       "CSP6      24833\n",
       "CSP5      75456"
      ]
     },
     "execution_count": 13,
     "metadata": {},
     "output_type": "execute_result"
    }
   ],
   "source": [
    "pd.DataFrame(df.SocioCateg.value_counts().sort_values()).rename({'SocioCateg': 'Frequency'}, axis=1)"
   ]
  },
  {
   "cell_type": "code",
   "execution_count": 14,
   "metadata": {
    "colab": {},
    "colab_type": "code",
    "id": "zPfpFjNiKHtj"
   },
   "outputs": [],
   "source": [
    "df = pd.get_dummies(df, columns=['VehUsage','SocioCateg'])"
   ]
  },
  {
   "cell_type": "markdown",
   "metadata": {
    "colab_type": "text",
    "id": "xuMe7c-wKT3H"
   },
   "source": [
    "Теперь, когда большинство переменных типа `object` обработаны, исключим их из набора данных за ненадобностью."
   ]
  },
  {
   "cell_type": "code",
   "execution_count": 15,
   "metadata": {
    "colab": {},
    "colab_type": "code",
    "id": "HBbmRHUFKRql"
   },
   "outputs": [],
   "source": [
    "df = df.select_dtypes(exclude=['object'])"
   ]
  },
  {
   "cell_type": "markdown",
   "metadata": {
    "colab_type": "text",
    "id": "SYrDMnrEAFwG"
   },
   "source": [
    "Также создадим такую переменную, как квадрат возраста."
   ]
  },
  {
   "cell_type": "code",
   "execution_count": 16,
   "metadata": {
    "colab": {
     "base_uri": "https://localhost:8080/",
     "height": 241
    },
    "colab_type": "code",
    "id": "Sduuts5fAAmK",
    "outputId": "8fc4145e-3fa2-484d-8c77-5e9f3e02c7fa"
   },
   "outputs": [
    {
     "data": {
      "text/html": [
       "<div>\n",
       "<style scoped>\n",
       "    .dataframe tbody tr th:only-of-type {\n",
       "        vertical-align: middle;\n",
       "    }\n",
       "\n",
       "    .dataframe tbody tr th {\n",
       "        vertical-align: top;\n",
       "    }\n",
       "\n",
       "    .dataframe thead th {\n",
       "        text-align: right;\n",
       "    }\n",
       "</style>\n",
       "<table border=\"1\" class=\"dataframe\">\n",
       "  <thead>\n",
       "    <tr style=\"text-align: right;\">\n",
       "      <th></th>\n",
       "      <th>Exposure</th>\n",
       "      <th>LicAge</th>\n",
       "      <th>Gender</th>\n",
       "      <th>MariStat</th>\n",
       "      <th>DrivAge</th>\n",
       "      <th>HasKmLimit</th>\n",
       "      <th>BonusMalus</th>\n",
       "      <th>ClaimAmount</th>\n",
       "      <th>ClaimInd</th>\n",
       "      <th>ClaimNbResp</th>\n",
       "      <th>...</th>\n",
       "      <th>VehUsage_Professional</th>\n",
       "      <th>VehUsage_Professional run</th>\n",
       "      <th>SocioCateg_CSP1</th>\n",
       "      <th>SocioCateg_CSP2</th>\n",
       "      <th>SocioCateg_CSP3</th>\n",
       "      <th>SocioCateg_CSP4</th>\n",
       "      <th>SocioCateg_CSP5</th>\n",
       "      <th>SocioCateg_CSP6</th>\n",
       "      <th>SocioCateg_CSP7</th>\n",
       "      <th>DrivAgeSq</th>\n",
       "    </tr>\n",
       "  </thead>\n",
       "  <tbody>\n",
       "    <tr>\n",
       "      <th>0</th>\n",
       "      <td>0.083</td>\n",
       "      <td>332</td>\n",
       "      <td>0</td>\n",
       "      <td>0</td>\n",
       "      <td>46</td>\n",
       "      <td>0</td>\n",
       "      <td>50</td>\n",
       "      <td>0.0</td>\n",
       "      <td>0</td>\n",
       "      <td>0.0</td>\n",
       "      <td>...</td>\n",
       "      <td>1</td>\n",
       "      <td>0</td>\n",
       "      <td>0</td>\n",
       "      <td>0</td>\n",
       "      <td>0</td>\n",
       "      <td>0</td>\n",
       "      <td>1</td>\n",
       "      <td>0</td>\n",
       "      <td>0</td>\n",
       "      <td>2116</td>\n",
       "    </tr>\n",
       "    <tr>\n",
       "      <th>1</th>\n",
       "      <td>0.916</td>\n",
       "      <td>333</td>\n",
       "      <td>0</td>\n",
       "      <td>0</td>\n",
       "      <td>46</td>\n",
       "      <td>0</td>\n",
       "      <td>50</td>\n",
       "      <td>0.0</td>\n",
       "      <td>0</td>\n",
       "      <td>0.0</td>\n",
       "      <td>...</td>\n",
       "      <td>1</td>\n",
       "      <td>0</td>\n",
       "      <td>0</td>\n",
       "      <td>0</td>\n",
       "      <td>0</td>\n",
       "      <td>0</td>\n",
       "      <td>1</td>\n",
       "      <td>0</td>\n",
       "      <td>0</td>\n",
       "      <td>2116</td>\n",
       "    </tr>\n",
       "    <tr>\n",
       "      <th>2</th>\n",
       "      <td>0.550</td>\n",
       "      <td>173</td>\n",
       "      <td>0</td>\n",
       "      <td>0</td>\n",
       "      <td>32</td>\n",
       "      <td>0</td>\n",
       "      <td>68</td>\n",
       "      <td>0.0</td>\n",
       "      <td>0</td>\n",
       "      <td>0.0</td>\n",
       "      <td>...</td>\n",
       "      <td>0</td>\n",
       "      <td>0</td>\n",
       "      <td>0</td>\n",
       "      <td>0</td>\n",
       "      <td>0</td>\n",
       "      <td>0</td>\n",
       "      <td>1</td>\n",
       "      <td>0</td>\n",
       "      <td>0</td>\n",
       "      <td>1024</td>\n",
       "    </tr>\n",
       "    <tr>\n",
       "      <th>3</th>\n",
       "      <td>0.089</td>\n",
       "      <td>364</td>\n",
       "      <td>1</td>\n",
       "      <td>0</td>\n",
       "      <td>52</td>\n",
       "      <td>0</td>\n",
       "      <td>50</td>\n",
       "      <td>0.0</td>\n",
       "      <td>0</td>\n",
       "      <td>0.0</td>\n",
       "      <td>...</td>\n",
       "      <td>0</td>\n",
       "      <td>0</td>\n",
       "      <td>0</td>\n",
       "      <td>0</td>\n",
       "      <td>0</td>\n",
       "      <td>0</td>\n",
       "      <td>1</td>\n",
       "      <td>0</td>\n",
       "      <td>0</td>\n",
       "      <td>2704</td>\n",
       "    </tr>\n",
       "    <tr>\n",
       "      <th>4</th>\n",
       "      <td>0.233</td>\n",
       "      <td>426</td>\n",
       "      <td>0</td>\n",
       "      <td>0</td>\n",
       "      <td>57</td>\n",
       "      <td>0</td>\n",
       "      <td>50</td>\n",
       "      <td>0.0</td>\n",
       "      <td>0</td>\n",
       "      <td>0.0</td>\n",
       "      <td>...</td>\n",
       "      <td>0</td>\n",
       "      <td>0</td>\n",
       "      <td>0</td>\n",
       "      <td>0</td>\n",
       "      <td>0</td>\n",
       "      <td>0</td>\n",
       "      <td>0</td>\n",
       "      <td>1</td>\n",
       "      <td>0</td>\n",
       "      <td>3249</td>\n",
       "    </tr>\n",
       "  </tbody>\n",
       "</table>\n",
       "<p>5 rows × 28 columns</p>\n",
       "</div>"
      ],
      "text/plain": [
       "   Exposure  LicAge  Gender  MariStat  DrivAge  HasKmLimit  BonusMalus  \\\n",
       "0     0.083     332       0         0       46           0          50   \n",
       "1     0.916     333       0         0       46           0          50   \n",
       "2     0.550     173       0         0       32           0          68   \n",
       "3     0.089     364       1         0       52           0          50   \n",
       "4     0.233     426       0         0       57           0          50   \n",
       "\n",
       "   ClaimAmount  ClaimInd  ClaimNbResp  ...  VehUsage_Professional  \\\n",
       "0          0.0         0          0.0  ...                      1   \n",
       "1          0.0         0          0.0  ...                      1   \n",
       "2          0.0         0          0.0  ...                      0   \n",
       "3          0.0         0          0.0  ...                      0   \n",
       "4          0.0         0          0.0  ...                      0   \n",
       "\n",
       "   VehUsage_Professional run  SocioCateg_CSP1  SocioCateg_CSP2  \\\n",
       "0                          0                0                0   \n",
       "1                          0                0                0   \n",
       "2                          0                0                0   \n",
       "3                          0                0                0   \n",
       "4                          0                0                0   \n",
       "\n",
       "   SocioCateg_CSP3  SocioCateg_CSP4  SocioCateg_CSP5  SocioCateg_CSP6  \\\n",
       "0                0                0                1                0   \n",
       "1                0                0                1                0   \n",
       "2                0                0                1                0   \n",
       "3                0                0                1                0   \n",
       "4                0                0                0                1   \n",
       "\n",
       "   SocioCateg_CSP7  DrivAgeSq  \n",
       "0                0       2116  \n",
       "1                0       2116  \n",
       "2                0       1024  \n",
       "3                0       2704  \n",
       "4                0       3249  \n",
       "\n",
       "[5 rows x 28 columns]"
      ]
     },
     "execution_count": 16,
     "metadata": {},
     "output_type": "execute_result"
    }
   ],
   "source": [
    "df['DrivAgeSq'] = df.DrivAge.apply(lambda x: x**2)\n",
    "df.head()"
   ]
  },
  {
   "cell_type": "markdown",
   "metadata": {
    "colab_type": "text",
    "id": "XE_3dSsW3J3X"
   },
   "source": [
    "Для моделирования частоты убытков сгенерируем показатель как сумму индикатора того, что убыток произошел (\"ClaimInd\") и количества заявленных убытков по различным видам ущерба за 4 предшествующих года (\"ClaimNbResp\", \"ClaimNbNonResp\", \"ClaimNbParking\", \"ClaimNbFireTheft\", \"ClaimNbWindscreen\").\n",
    "\n",
    "В случаях, если соответствующая величина убытка равняется нулю, сгенерированную частоту также обнулим."
   ]
  },
  {
   "cell_type": "code",
   "execution_count": 17,
   "metadata": {
    "colab": {},
    "colab_type": "code",
    "id": "R6rz5Oko3rbr"
   },
   "outputs": [],
   "source": [
    "df['ClaimsCount'] = df.ClaimInd + df.ClaimNbResp + df.ClaimNbNonResp + df.ClaimNbParking + df.ClaimNbFireTheft + df.ClaimNbWindscreen\n",
    "df.loc[df.ClaimAmount == 0, 'ClaimsCount'] = 0\n",
    "df.drop([\"ClaimNbResp\", \"ClaimNbNonResp\", \"ClaimNbParking\", \"ClaimNbFireTheft\", \"ClaimNbWindscreen\"], axis=1, inplace=True)"
   ]
  },
  {
   "cell_type": "code",
   "execution_count": 18,
   "metadata": {
    "colab": {
     "base_uri": "https://localhost:8080/",
     "height": 390
    },
    "colab_type": "code",
    "id": "cJ5_aqnx4FcZ",
    "outputId": "e4ec7990-c183-4dcd-8f81-4651ea47b03e"
   },
   "outputs": [
    {
     "data": {
      "text/html": [
       "<div>\n",
       "<style scoped>\n",
       "    .dataframe tbody tr th:only-of-type {\n",
       "        vertical-align: middle;\n",
       "    }\n",
       "\n",
       "    .dataframe tbody tr th {\n",
       "        vertical-align: top;\n",
       "    }\n",
       "\n",
       "    .dataframe thead th {\n",
       "        text-align: right;\n",
       "    }\n",
       "</style>\n",
       "<table border=\"1\" class=\"dataframe\">\n",
       "  <thead>\n",
       "    <tr style=\"text-align: right;\">\n",
       "      <th></th>\n",
       "      <th>Policies</th>\n",
       "    </tr>\n",
       "  </thead>\n",
       "  <tbody>\n",
       "    <tr>\n",
       "      <th>0.0</th>\n",
       "      <td>104286</td>\n",
       "    </tr>\n",
       "    <tr>\n",
       "      <th>2.0</th>\n",
       "      <td>3529</td>\n",
       "    </tr>\n",
       "    <tr>\n",
       "      <th>1.0</th>\n",
       "      <td>3339</td>\n",
       "    </tr>\n",
       "    <tr>\n",
       "      <th>3.0</th>\n",
       "      <td>2310</td>\n",
       "    </tr>\n",
       "    <tr>\n",
       "      <th>4.0</th>\n",
       "      <td>1101</td>\n",
       "    </tr>\n",
       "    <tr>\n",
       "      <th>5.0</th>\n",
       "      <td>428</td>\n",
       "    </tr>\n",
       "    <tr>\n",
       "      <th>6.0</th>\n",
       "      <td>127</td>\n",
       "    </tr>\n",
       "    <tr>\n",
       "      <th>7.0</th>\n",
       "      <td>26</td>\n",
       "    </tr>\n",
       "    <tr>\n",
       "      <th>8.0</th>\n",
       "      <td>6</td>\n",
       "    </tr>\n",
       "    <tr>\n",
       "      <th>9.0</th>\n",
       "      <td>2</td>\n",
       "    </tr>\n",
       "    <tr>\n",
       "      <th>11.0</th>\n",
       "      <td>1</td>\n",
       "    </tr>\n",
       "  </tbody>\n",
       "</table>\n",
       "</div>"
      ],
      "text/plain": [
       "      Policies\n",
       "0.0     104286\n",
       "2.0       3529\n",
       "1.0       3339\n",
       "3.0       2310\n",
       "4.0       1101\n",
       "5.0        428\n",
       "6.0        127\n",
       "7.0         26\n",
       "8.0          6\n",
       "9.0          2\n",
       "11.0         1"
      ]
     },
     "execution_count": 18,
     "metadata": {},
     "output_type": "execute_result"
    }
   ],
   "source": [
    "pd.DataFrame(df.ClaimsCount.value_counts()).rename({'ClaimsCount': 'Policies'}, axis=1)"
   ]
  },
  {
   "cell_type": "code",
   "execution_count": 19,
   "metadata": {
    "colab": {
     "base_uri": "https://localhost:8080/",
     "height": 542
    },
    "colab_type": "code",
    "id": "A0zvYuoZ4gcH",
    "outputId": "0dfb36b1-bf52-477e-b029-3fddd4413d2c"
   },
   "outputs": [],
   "source": [
    "#import plotly.express as px\n",
    "#fig = px.scatter(df, x='ClaimsCount', y='ClaimAmount', title='Зависимость между частотой и величиной убытков')\n",
    "#fig.show()"
   ]
  },
  {
   "cell_type": "markdown",
   "metadata": {
    "colab_type": "text",
    "id": "iCZAeoll6xac"
   },
   "source": [
    "Для моделирования среднего убытка можем рассчитать его как отношение величины убытков к их частоте."
   ]
  },
  {
   "cell_type": "code",
   "execution_count": 20,
   "metadata": {
    "colab": {},
    "colab_type": "code",
    "id": "y9AKwYtU6x1i"
   },
   "outputs": [],
   "source": [
    "dfAC = df[df.ClaimsCount > 0].copy()\n",
    "dfAC['AvgClaim'] = dfAC.ClaimAmount/dfAC.ClaimsCount"
   ]
  },
  {
   "cell_type": "markdown",
   "metadata": {
    "colab_type": "text",
    "id": "VpYxkXdrLD01"
   },
   "source": [
    "## Разделение набора данных на обучающую, валидационную и тестовую выборки"
   ]
  },
  {
   "cell_type": "code",
   "execution_count": 21,
   "metadata": {
    "colab": {},
    "colab_type": "code",
    "id": "piO1n8o2LFAJ"
   },
   "outputs": [],
   "source": [
    "from sklearn.model_selection import train_test_split"
   ]
  },
  {
   "cell_type": "code",
   "execution_count": 22,
   "metadata": {
    "colab": {},
    "colab_type": "code",
    "id": "dGvhYDXdLFoR"
   },
   "outputs": [],
   "source": [
    "# Разбиение датасета для частоты на train/val/test\n",
    "\n",
    "x_train_c, x_test_c, y_train_c, y_test_c = train_test_split(df.drop(['ClaimInd', 'ClaimAmount', 'ClaimsCount'], axis=1), df.ClaimsCount, test_size=0.3, random_state=1)\n",
    "x_valid_c, x_test_c, y_valid_c, y_test_c = train_test_split(x_test_c, y_test_c, test_size=0.5, random_state=1)"
   ]
  },
  {
   "cell_type": "code",
   "execution_count": 23,
   "metadata": {
    "colab": {},
    "colab_type": "code",
    "id": "XBBJ06RA96Xk"
   },
   "outputs": [],
   "source": [
    "# Разбиение датасета для среднего убытка на train/val/test \n",
    "\n",
    "x_train_ac, x_test_ac, y_train_ac, y_test_ac = train_test_split(dfAC.drop(['ClaimInd', 'ClaimAmount', 'ClaimsCount', 'AvgClaim'], axis=1), dfAC.AvgClaim, test_size=0.3, random_state=1)\n",
    "x_valid_ac, x_test_ac, y_valid_ac, y_test_ac = train_test_split(x_test_ac, y_test_ac, test_size=0.5, random_state=1)"
   ]
  },
  {
   "cell_type": "markdown",
   "metadata": {
    "colab_type": "text",
    "id": "MVH6ncAFgWXF"
   },
   "source": [
    "## Обобщенные линейные модели (Generalized Linear Models, GLM)"
   ]
  },
  {
   "cell_type": "markdown",
   "metadata": {
    "colab_type": "text",
    "id": "Irg71_9zMJxT"
   },
   "source": [
    "### Теория"
   ]
  },
  {
   "cell_type": "markdown",
   "metadata": {
    "colab_type": "text",
    "id": "R5SOE8shgaDi"
   },
   "source": [
    "Пусть $y$ – целевая переменная, $X$ – матрица объясняющих переменных, $\\beta$ – вектор параметров модели.\n",
    "\n",
    "Матрица $X$ составлена из всех векторов наблюдений $x_i$, каждый из которых представляет собой объясняющую переменную.\n",
    "\n",
    "Основные компоненты обобщенной линейной модели:\n",
    "* Систематическая компонента $\\eta$:\n",
    "    * $\\eta = X\\beta \\hspace{10pt}(=\\beta_0+\\beta_1x_1+\\beta_2x_2+\\dots+\\beta_nx_n)$.\n",
    "* Случайная компонента $y$:\n",
    "    * Элементы вектора $y$ – независимые одинаково распределенные случайные величины, имеющие функцию плотности распределения $f(y;\\theta,\\phi)$ из экспоненциального семейства.\n",
    "    * Распределения из экспоненциального семейства имеют параметры $\\theta$ (характеристика среднего) и $\\phi$ (характеристика дисперсии). В общем виде данные распределения могут быть определены:\n",
    "    $$f_i(y_i;\\theta_i,\\phi)=\\exp\\left\\lbrace \\frac{y_i\\theta_i-b(\\theta_i)}{a_i(\\phi)} + c(y_i, \\phi) \\right\\rbrace,$$\n",
    "    где $a_i(\\phi)$, $b(\\theta_i)$ и $c(y_i, \\phi)$ некоторые функции.\n",
    "    * Для распределений из данного семейства дисперсия является функцией от среднего.\n",
    "    * Экспоненциальное семейство включает распределения нормальное, экспоненциальное, Пуассона, гамма, хи-квадрат, бета и другие.\n",
    "* Функция связи $g$:\n",
    "    * $\\mathbb{E}\\left[y\\right]=\\mu=g^{-1}\\left(\\eta\\right)$, $\\mu$ – математическое ожидание $y$;\n",
    "    * $g$ – монотонная дифференцируемая функция.\n",
    "\n",
    "\n"
   ]
  },
  {
   "cell_type": "markdown",
   "metadata": {
    "colab_type": "text",
    "id": "LoBqR6SkGDKm"
   },
   "source": [
    "#### GLM с распределением Пуассона"
   ]
  },
  {
   "cell_type": "markdown",
   "metadata": {
    "colab_type": "text",
    "id": "stmssdazGHpt"
   },
   "source": [
    "Регрессия Пуассона обычно используется в случаях, когда зависимая переменная представляет собой счетные значения и ошибки предполагаются распределенными в соответствии с распределением Пуассона. Зависимая переменная должна быть неотрицательной.\n",
    "\n",
    "Функции связи между таргетом и объясняющими переменными предполагается логарифмической:\n",
    "$$g(\\eta) = \\ln(\\eta) \\Rightarrow \\hat {y} = e^{x{^T}\\beta + {\\beta_{0}}}.$$\n",
    "\n",
    "Модель оценивается методом максимального правдоподобия, функция логарифма правдоподобия с учетом штрафа регуляризации эластичной сети имеет вид:\n",
    "$$\\max_{\\beta,\\beta_0} \\frac{1}{N} \\sum_{i=1}^{N} \\Big( y_i(x_{i}^{T}\\beta + \\beta_0) - e^{x{^T_i}\\beta + {\\beta_0}} \\Big)- \\lambda \\Big( \\alpha||\\beta||_1 + \\dfrac {1} {2}(1 - \\alpha)||\\beta||^2_2 \\Big),$$\n",
    "\n",
    "где \n",
    "* $\\lambda$ – параметр, отвечающий за силу регуляризации. $\\lambda\\in\\mathbb{R}^{+}$;\n",
    "* $\\alpha$ – параметр, отвечающий за распределение штрафов регуляризации между нормой 1 ($\\ell_1$) и нормой 2 ($\\ell_2$). $\\alpha\\in[0,1]$;\n",
    "* $||\\beta||{_1}$ – штраф регуляризации $\\ell_1$ (LASSO). $||\\beta||{_1} = \\sum{^p_{k=1}} |\\beta{_k}|$;\n",
    "* $||\\beta||{_2}$ – штраф регуляризации $\\ell_2$ (Ridge). $||\\beta||{_2} = \\sum{^p_{k=1}} \\beta{^2_k}$.\n",
    "\n",
    "Тогда соответствующая метрика _Deviance_ имеет вид:\n",
    "$$D = -2 \\sum_{i=1}^{N} \\big( y_i \\text{ln}(y_i / \\hat {y}_i) - (y_i - \\hat {y}_i) \\big).$$"
   ]
  },
  {
   "cell_type": "markdown",
   "metadata": {
    "colab_type": "text",
    "id": "6qEMtZhcy0nZ"
   },
   "source": [
    "##### Вывод функции правдоподобия для GLM с распределением Пуассона (без регуляризации)"
   ]
  },
  {
   "cell_type": "markdown",
   "metadata": {
    "colab_type": "text",
    "id": "ByGAuksEUt3c"
   },
   "source": [
    "**NB:** Ниже $\\lambda$ не имеет отношения к вышеупомянутому одноименному параметру регуляризации."
   ]
  },
  {
   "cell_type": "markdown",
   "metadata": {
    "colab_type": "text",
    "id": "YN6oPpI_3Tg-"
   },
   "source": [
    "Напомним, что функция вероятности для распределения Пуассона имеет вид:\n",
    "$$p(k;\\lambda) = \\frac{\\lambda^k e^{-\\lambda}}{k!}, \\hspace{10pt} \\lambda\\in\\mathbb{R}^{+}.$$\n",
    "Также, для распределения Пуассона справедливо, что:\n",
    "$$\\mathbb{E}\\left[k\\right] = Var(k) = \\lambda.$$\n",
    "Тогда, для оценивания коэффициентов нашей модели необходимо максимизировать правдоподобие (совместную условную вероятность при имеющихся данных), что данные имеют распределение Пуассона:\n",
    "$$p(y_1,\\dots,y_n|x_1,\\dots,x_n;\\beta_0,\\beta) = \\prod_{i=1}^{N}\\frac{e^{y_i(x_i{^T}\\beta + {\\beta_{0}})} e^{-e^{x_i{^T}\\beta + {\\beta_{0}}}}}{y_i!} = L(\\beta_0,\\beta|y_1,\\dots,y_n,x_1,\\dots,x_n).$$\n",
    "Для упрощения задачи оптимизации перейдем к логарифму правдоподобия:\n",
    "$$\\ell(\\beta_0,\\beta|y_1,\\dots,y_n,x_1,\\dots,x_n) = \\sum_{i=1}^{N}\\left(y_i(x_i{^T}\\beta + {\\beta_{0}}) -e^{x_i{^T}\\beta + {\\beta_{0}}}-\\ln(y_i!)\\right).$$\n",
    "Поскольку величина $\\ln(y_i!)$ не зависит от выбора параметров, можно упростить задачу:\n",
    "$$\\ell(\\beta_0,\\beta|y_1,\\dots,y_n,x_1,\\dots,x_n) = \\sum_{i=1}^{N}\\left(y_i(x_i{^T}\\beta + {\\beta_{0}}) -e^{x_i{^T}\\beta + {\\beta_{0}}}\\right).$$\n",
    "Далее численно решается задача оптимизации для определения параметров модели:\n",
    "$$\\frac{\\partial \\ell(\\beta_0,\\beta|y_1,\\dots,y_n,x_1,\\dots,x_n)}{\\partial \\beta_0} = 0,\\\\\\frac{\\partial \\ell(\\beta_0,\\beta|y_1,\\dots,y_n,x_1,\\dots,x_n)}{\\partial \\beta} = 0.$$\n",
    "Обычно минимизируется отрицательное правдоподобие, которое является выпуклой функцией."
   ]
  },
  {
   "cell_type": "markdown",
   "metadata": {
    "colab_type": "text",
    "id": "rXdxE61XFNXd"
   },
   "source": [
    "##### Вывод метрики Deviance для GLM с распределением Пуассона"
   ]
  },
  {
   "cell_type": "markdown",
   "metadata": {
    "colab_type": "text",
    "id": "zP2oklD3FVgC"
   },
   "source": [
    "Метрика Deviance представляет собой отношение правдоподобия между двумя моделями: рассматриваемой моделью и \"идеальной\" моделью, в которая бы идеально предсказывала бы зависимую переменную.\n",
    "$$Deviance = 2(\\ell_{ideal} - \\ell_{model})$$\n",
    "\n",
    "В качестве такой \"идеальной модели\" может использоваться сама зависимая переменная. Тогда, логарифм правдоподобия \"идеальной модели\" для GLM с распределением Пуассона имеет вид:\n",
    "$$\\ell_{ideal} = \\sum_{i=1}^{N}\\left(y_i \\ln(y_i) -y_i-\\ln(y_i!)\\right).$$\n",
    "\n",
    "Из приведенного выше вывода правдоподобия для рассматриваемой модели, мы можем записать, обозначив $\\hat{y}_i = e^{x{^T}\\beta + {\\beta_{0}}}$:\n",
    "$$\\ell_{model} = \\sum_{i=1}^{N}\\left(y_i \\ln(\\hat{y}_i) -\\hat{y}_i-\\ln(y_i!)\\right).$$\n",
    "\n",
    "Тогда получаем,\n",
    "$$Deviance = 2\\sum_{i=1}^{N}\\left(y_i \\ln(y_i) -y_i - y_i \\ln(\\hat{y}_i) +\\hat{y}_i\\right) = -2\\sum_{i=1}^{N}\\left(y_i \\ln(y_i/\\hat{y}_i) - (y_i -\\hat{y}_i)\\right).$$\n"
   ]
  },
  {
   "cell_type": "markdown",
   "metadata": {
    "colab_type": "text",
    "id": "vTWFrSADGE2v"
   },
   "source": [
    "#### GLM с гамма-распределением"
   ]
  },
  {
   "cell_type": "markdown",
   "metadata": {
    "colab_type": "text",
    "id": "zURS5rANGpQM"
   },
   "source": [
    "GLM с гамма-распределением используется для моделирования положительной непрерывной зависимой переменной, когда ее условная дисперсия увеличивается вместе со средним значением, но коэффициент вариации зависимой переменной предполагается постоянным.\n",
    "\n",
    "Обычно GLM с гамма-распределением используются с логарифмической или обратной функциями связи:\n",
    "$$g(\\eta) = \\ln(\\eta);\\hspace{20pt}g(\\eta) = \\frac{1}{\\eta}.$$\n",
    "\n",
    "Модель оценивается методом максимального правдоподобия, функция логарифма правдоподобия (для обратной функции связи) с учетом штрафа регуляризации эластичной сети имеет вид:\n",
    "$$\\max_{\\beta,\\beta_0} - \\frac{1}{N} \\sum_{i=1}^{N} \\frac{y_i}{x{^T_i}\\beta + \\beta_0} + \\text{ln} \\big( x{^T_i}\\beta + \\beta_0 \\big ) - \\lambda \\Big( \\alpha||\\beta||_1 + \\dfrac {1} {2}(1 - \\alpha)||\\beta||^2_2 \\Big),$$\n",
    "\n",
    "где \n",
    "* $\\lambda$ – параметр, отвечающий за силу регуляризации. $\\lambda\\in\\mathbb{R}^{+}$;\n",
    "* $\\alpha$ – параметр, отвечающий за распределение штрафов регуляризации между нормой 1 ($\\ell_1$) и нормой 2 ($\\ell_2$). $\\alpha\\in[0,1]$;\n",
    "* $||\\beta||{_1}$ – штраф регуляризации $\\ell_1$ (LASSO). $||\\beta||{_1} = \\sum{^p_{k=1}} |\\beta{_k}|$;\n",
    "* $||\\beta||{_2}$ – штраф регуляризации $\\ell_2$ (Ridge). $||\\beta||{_2} = \\sum{^p_{k=1}} \\beta{^2_k}$.\n",
    "\n",
    "Соответствующая метрика _Deviance_ имеет вид:\n",
    "$$D = 2 \\sum_{i=1}^{N} - \\text{ln} \\bigg (\\dfrac {y_i} {\\hat {y}_i} \\bigg) + \\dfrac {(y_i - \\hat{y}_i)} {\\hat {y}_i}.$$\n",
    "\n",
    "\n"
   ]
  },
  {
   "cell_type": "markdown",
   "metadata": {
    "colab_type": "text",
    "id": "g556ItOFqrlt"
   },
   "source": [
    "##### Вывод функции правдоподобия для GLM с Гамма-распределением и логарифмической функцией связи (без регуляризации)"
   ]
  },
  {
   "cell_type": "markdown",
   "metadata": {
    "colab_type": "text",
    "id": "sMwfkpunUSh3"
   },
   "source": [
    "**NB:** Ниже $\\alpha$ и $\\lambda$ не имеют отношения к вышеупомянутым одноименным параметрам регуляризации."
   ]
  },
  {
   "cell_type": "markdown",
   "metadata": {
    "colab_type": "text",
    "id": "U4_fS_r2qsSV"
   },
   "source": [
    "Напомним, что функция плотности вероятности для Гамма-распределения имеет вид:\n",
    "$$f(x;\\alpha,\\lambda) = \n",
    "\\begin{cases}\n",
    "\\frac{\\alpha^\\lambda}{\\Gamma(\\lambda)}x^{\\lambda-1}e^{-\\alpha x},&x \\ge 0\\\\\n",
    "0,& x <0\n",
    "\\end{cases},\\hspace{20pt} \\Gamma(x) = \\int_0^{\\infty}x^{\\lambda-1}e^{-x}dx.\n",
    "$$\n",
    "Также, для Гамма-распределения справедливо, что:\n",
    "$$ \\mathbb{E}[x] = \\frac{\\lambda}{\\alpha},\\hspace{15pt} Var(x) = \\frac{\\lambda}{\\alpha^2}.$$"
   ]
  },
  {
   "cell_type": "markdown",
   "metadata": {
    "colab_type": "text",
    "id": "ANqE1W2i9Oo0"
   },
   "source": [
    "Для оценивания GLM удобно параметризовать данное распределение иначе:\n",
    "$$ \\mathbb{E}[x] = \\frac{\\lambda}{\\alpha} = \\mu,\\hspace{15pt} Var(x) = \\frac{\\lambda}{\\alpha^2} = \\frac{\\mu^2}{\\lambda}.$$\n",
    "Тогда,\n",
    "$$f(x;\\mu,\\lambda) = \\frac{1}{\\Gamma(\\lambda)}\\alpha^\\lambda x^{\\lambda-1}e^{-\\alpha x} = \\frac{1}{\\Gamma(\\lambda)}\\left(\\frac{\\lambda}{\\mu}\\right)^\\lambda x^{\\lambda-1}e^{-\\left(\\frac{\\lambda}{\\mu}\\right)x} = \\frac{1}{x\\cdot\\Gamma(\\lambda)}\\left(\\frac{\\lambda x}{\\mu}\\right)^\\lambda e^{-\\frac{\\lambda x}{\\mu}},\\hspace{15pt} x\\ge 0.$$\n",
    "\n",
    "Также напомним, что для GLM с функцией связи $\\ln(x)$ предсказание (оценка математического ожидания) имеет вид $\\hat {y} = e^{x{^T}\\beta + {\\beta_{0}}}$.\n"
   ]
  },
  {
   "cell_type": "markdown",
   "metadata": {
    "colab_type": "text",
    "id": "XTIQAUDg9NXg"
   },
   "source": [
    "Тогда, для оценивания коэффициентов нашей модели необходимо максимизировать правдоподобие (совместную условную вероятность при имеющихся данных), что данные имеют Гамма-распределение, в предположении известного параметра $\\lambda$:\n",
    "$$p(y_1,\\dots,y_n|x_1,\\dots,x_n;\\beta_0,\\beta) = \\prod_{i=1}^{N}\\frac{1}{y_i\\cdot\\Gamma(\\lambda)}\\left(\\frac{\\lambda y_i}{e^{x_i{^T}\\beta + {\\beta_{0}}}}\\right)^\\lambda e^{-\\frac{\\lambda y_i}{e^{x_i{^T}\\beta + {\\beta_{0}}}}} = L(\\beta_0,\\beta|y_1,\\dots,y_n,x_1,\\dots,x_n).$$\n",
    "Для упрощения задачи оптимизации перейдем к логарифму правдоподобия:\n",
    "\\begin{align}\n",
    "\\ell(\\beta_0,\\beta|y_1,\\dots,y_n,x_1,\\dots,x_n) &= \\sum_{i=1}^{N}\\left(-\\ln(\\Gamma(\\lambda))-\\ln(y_i)+ \\lambda\\ln\\left(\\frac{\\lambda y_i}{e^{x_i{^T}\\beta + {\\beta_{0}}}}\\right) -\\frac{\\lambda y_i}{e^{x_i{^T}\\beta + {\\beta_{0}}}}\\right)\\\\ &= \\sum_{i=1}^{N}\\left(-\\ln(\\Gamma(\\lambda))-\\ln(y_i) + \\lambda\\ln\\left(\\lambda\\right)+\\lambda\\ln\\left(y_i\\right)-\\lambda\\left({x_i{^T}\\beta + {\\beta_{0}}}\\right) -\\frac{\\lambda y_i}{e^{x_i{^T}\\beta + {\\beta_{0}}}}\\right)\\\\ &= \\sum_{i=1}^{N}\\left((\\lambda-1)\\ln\\left(y_i\\right)-\\ln(\\Gamma(\\lambda)) + \\lambda\\ln\\left(\\lambda\\right)-\\lambda\\left({x_i{^T}\\beta + {\\beta_{0}}}\\right) -\\frac{\\lambda y_i}{e^{x_i{^T}\\beta + {\\beta_{0}}}}\\right).\n",
    "\\end{align}\n",
    "Тогда обозначим слагаемые, не зависящие от параметров модели ($\\beta_0$, $\\beta$), как некоторую константу $C$, получаем:\n",
    "$$\\ell(\\beta_0,\\beta|y_1,\\dots,y_n,x_1,\\dots,x_n) = \\sum_{i=1}^{N}\\left(-\\lambda\\left(\\left({x_i{^T}\\beta + {\\beta_{0}}}\\right) +\\frac{y_i}{e^{x_i{^T}\\beta + {\\beta_{0}}}}\\right) + C(y_i, \\lambda)\\right),$$\n",
    "Таким образом, требуется максимизировать\n",
    "$$\\ell(\\beta_0,\\beta|y_1,\\dots,y_n,x_1,\\dots,x_n) = -\\sum_{i=1}^{N}\\left(\\left({x_i{^T}\\beta + {\\beta_{0}}}\\right) + \\frac{y_i}{e^{x_i{^T}\\beta + {\\beta_{0}}}}\\right),$$\n",
    "Далее численно решается задача оптимизации для определения параметров модели:\n",
    "$$\\frac{\\partial \\ell(\\beta_0,\\beta|y_1,\\dots,y_n,x_1,\\dots,x_n)}{\\partial \\beta_0} = 0,\\\\\\frac{\\partial \\ell(\\beta_0,\\beta|y_1,\\dots,y_n,x_1,\\dots,x_n)}{\\partial \\beta} = 0.$$\n",
    "Обычно минимизируется отрицательное правдоподобие, которое является выпуклой функцией."
   ]
  },
  {
   "cell_type": "markdown",
   "metadata": {
    "colab_type": "text",
    "id": "idUKi7_RqxHA"
   },
   "source": [
    "##### Вывод метрики Deviance для GLM с Гамма-распределением"
   ]
  },
  {
   "cell_type": "markdown",
   "metadata": {
    "colab_type": "text",
    "id": "FK1D3Pz3qwbL"
   },
   "source": [
    "Метрика Deviance представляет собой отношение правдоподобия между двумя моделями: рассматриваемой моделью и \"идеальной\" моделью, в которая бы идеально предсказывала бы зависимую переменную.\n",
    "$$Deviance = 2(\\ell_{ideal} - \\ell_{model})$$\n",
    "\n",
    "В качестве такой \"идеальной модели\" может использоваться сама зависимая переменная. Тогда, логарифм правдоподобия \"идеальной модели\" для GLM с распределением Пуассона имеет вид:\n",
    "$$\\ell_{ideal} = -\\sum_{i=1}^{N}\\left(1 + \\ln(y_i)\\right).$$\n",
    "\n",
    "Из приведенного выше вывода правдоподобия для рассматриваемой модели, мы можем записать, обозначив $\\hat{y}_i = e^{x{^T}\\beta + {\\beta_{0}}}$:\n",
    "$$\\ell_{model} = -\\sum_{i=1}^{N}\\left(\\frac{y_i}{\\hat{y}_i} + \\ln(\\hat{y}_i)\\right).$$\n",
    "\n",
    "Тогда получаем,\n",
    "$$Deviance = 2\\sum_{i=1}^{N}\\left(- 1 - \\ln(y_i) + \\frac{y_i}{\\hat{y}_i} + \\ln(\\hat{y}_i)\\right) = 2\\sum_{i=1}^{N}\\left(-\\ln\\left(\\frac{y_i}{\\hat{y}_i}\\right)+\\frac{y_i-\\hat{y}_i}{\\hat{y}_i} \\right).$$"
   ]
  },
  {
   "cell_type": "markdown",
   "metadata": {
    "colab_type": "text",
    "id": "hUUC9Vmhf5aB"
   },
   "source": [
    "#### Дополнительная литература по GLM"
   ]
  },
  {
   "cell_type": "markdown",
   "metadata": {
    "colab_type": "text",
    "id": "gRAxYOQcf-uD"
   },
   "source": [
    "*   [P. McCullagh, John A. Nelder _\"Generalized Linear Models\"_](http://www.utstat.toronto.edu/~brunner/oldclass/2201s11/readings/glmbook.pdf)\n",
    "*   [D. Anderson, et al. _\"A practitioner’s guide to generalized linear models\"_](https://www.casact.org/pubs/dpp/dpp04/04dpp1.pdf)\n",
    "*   [E. Ohlsson, B. Johansson _\"Non-life insurance pricing with generalized linear models\"_](https://www.springer.com/gp/book/9783642107900)\n",
    "*   [P. De Jong, G. Heller _\"Generalized linear models for insurance data\"_](https://feb.kuleuven.be/public/u0017833/boek.pdf)\n",
    "\n",
    "\n"
   ]
  },
  {
   "cell_type": "markdown",
   "metadata": {
    "colab_type": "text",
    "id": "fKCG1lssMNA7"
   },
   "source": [
    "### Установка H2O на Google Colaboratory и инициализация"
   ]
  },
  {
   "cell_type": "code",
   "execution_count": 24,
   "metadata": {
    "colab": {
     "base_uri": "https://localhost:8080/",
     "height": 102
    },
    "colab_type": "code",
    "id": "XgOdDSP-gXCd",
    "outputId": "f5d313c8-f879-4712-e42b-86f2657b9f47"
   },
   "outputs": [],
   "source": [
    "#!apt-get install default-jre"
   ]
  },
  {
   "cell_type": "code",
   "execution_count": 25,
   "metadata": {
    "colab": {
     "base_uri": "https://localhost:8080/",
     "height": 68
    },
    "colab_type": "code",
    "id": "pvu-Rs1GMl0a",
    "outputId": "baaf7a2e-4574-4829-da1a-3a6a83a36343"
   },
   "outputs": [],
   "source": [
    "#!java -version"
   ]
  },
  {
   "cell_type": "code",
   "execution_count": 26,
   "metadata": {
    "colab": {
     "base_uri": "https://localhost:8080/",
     "height": 170
    },
    "colab_type": "code",
    "id": "oTpLqa_sgJH4",
    "outputId": "64aa46f7-10c6-49b6-b591-8c6f2bd70fe9"
   },
   "outputs": [],
   "source": [
    "#!pip install h2o"
   ]
  },
  {
   "cell_type": "code",
   "execution_count": 27,
   "metadata": {
    "colab": {
     "base_uri": "https://localhost:8080/",
     "height": 389
    },
    "colab_type": "code",
    "id": "KSdsMa-agl-6",
    "outputId": "2ee3b9d2-d646-4a9f-e730-b6ef6d94f90a"
   },
   "outputs": [
    {
     "name": "stdout",
     "output_type": "stream",
     "text": [
      "Checking whether there is an H2O instance running at http://localhost:54321 ..... not found.\n",
      "Attempting to start a local H2O server...\n",
      "; OpenJDK 64-Bit Server VM (build 11.0.6+8-b765.1, mixed mode)\n",
      "  Starting server from C:\\Users\\fini1\\Anaconda3\\lib\\site-packages\\h2o\\backend\\bin\\h2o.jar\n",
      "  Ice root: C:\\Users\\fini1\\AppData\\Local\\Temp\\tmp5o67hia2\n",
      "  JVM stdout: C:\\Users\\fini1\\AppData\\Local\\Temp\\tmp5o67hia2\\h2o_fini1_started_from_python.out\n",
      "  JVM stderr: C:\\Users\\fini1\\AppData\\Local\\Temp\\tmp5o67hia2\\h2o_fini1_started_from_python.err\n",
      "  Server is running at http://127.0.0.1:54321\n",
      "Connecting to H2O server at http://127.0.0.1:54321 ... successful.\n"
     ]
    },
    {
     "data": {
      "text/html": [
       "<div style=\"overflow:auto\"><table style=\"width:50%\"><tr><td>H2O_cluster_uptime:</td>\n",
       "<td>04 secs</td></tr>\n",
       "<tr><td>H2O_cluster_timezone:</td>\n",
       "<td>Asia/Yekaterinburg</td></tr>\n",
       "<tr><td>H2O_data_parsing_timezone:</td>\n",
       "<td>UTC</td></tr>\n",
       "<tr><td>H2O_cluster_version:</td>\n",
       "<td>3.30.0.2</td></tr>\n",
       "<tr><td>H2O_cluster_version_age:</td>\n",
       "<td>1 day </td></tr>\n",
       "<tr><td>H2O_cluster_name:</td>\n",
       "<td>H2O_from_python_fini1_mrl8n4</td></tr>\n",
       "<tr><td>H2O_cluster_total_nodes:</td>\n",
       "<td>1</td></tr>\n",
       "<tr><td>H2O_cluster_free_memory:</td>\n",
       "<td>1.492 Gb</td></tr>\n",
       "<tr><td>H2O_cluster_total_cores:</td>\n",
       "<td>4</td></tr>\n",
       "<tr><td>H2O_cluster_allowed_cores:</td>\n",
       "<td>4</td></tr>\n",
       "<tr><td>H2O_cluster_status:</td>\n",
       "<td>accepting new members, healthy</td></tr>\n",
       "<tr><td>H2O_connection_url:</td>\n",
       "<td>http://127.0.0.1:54321</td></tr>\n",
       "<tr><td>H2O_connection_proxy:</td>\n",
       "<td>{\"http\": null, \"https\": null}</td></tr>\n",
       "<tr><td>H2O_internal_security:</td>\n",
       "<td>False</td></tr>\n",
       "<tr><td>H2O_API_Extensions:</td>\n",
       "<td>Amazon S3, Algos, AutoML, Core V3, TargetEncoder, Core V4</td></tr>\n",
       "<tr><td>Python_version:</td>\n",
       "<td>3.7.7 final</td></tr></table></div>"
      ],
      "text/plain": [
       "--------------------------  ---------------------------------------------------------\n",
       "H2O_cluster_uptime:         04 secs\n",
       "H2O_cluster_timezone:       Asia/Yekaterinburg\n",
       "H2O_data_parsing_timezone:  UTC\n",
       "H2O_cluster_version:        3.30.0.2\n",
       "H2O_cluster_version_age:    1 day\n",
       "H2O_cluster_name:           H2O_from_python_fini1_mrl8n4\n",
       "H2O_cluster_total_nodes:    1\n",
       "H2O_cluster_free_memory:    1.492 Gb\n",
       "H2O_cluster_total_cores:    4\n",
       "H2O_cluster_allowed_cores:  4\n",
       "H2O_cluster_status:         accepting new members, healthy\n",
       "H2O_connection_url:         http://127.0.0.1:54321\n",
       "H2O_connection_proxy:       {\"http\": null, \"https\": null}\n",
       "H2O_internal_security:      False\n",
       "H2O_API_Extensions:         Amazon S3, Algos, AutoML, Core V3, TargetEncoder, Core V4\n",
       "Python_version:             3.7.7 final\n",
       "--------------------------  ---------------------------------------------------------"
      ]
     },
     "metadata": {},
     "output_type": "display_data"
    }
   ],
   "source": [
    "import h2o\n",
    "from h2o.estimators.glm import H2OGeneralizedLinearEstimator\n",
    "h2o.init()"
   ]
  },
  {
   "cell_type": "markdown",
   "metadata": {
    "colab_type": "text",
    "id": "YttnrY4wMqu3"
   },
   "source": [
    "### Построение GLM для частоты страховых случаев"
   ]
  },
  {
   "cell_type": "code",
   "execution_count": 28,
   "metadata": {
    "colab": {
     "base_uri": "https://localhost:8080/",
     "height": 68
    },
    "colab_type": "code",
    "id": "r-BqsBNx_zIH",
    "outputId": "e2d64920-179f-408f-a032-e62bbcadeb2e"
   },
   "outputs": [
    {
     "name": "stdout",
     "output_type": "stream",
     "text": [
      "Parse progress: |█████████████████████████████████████████████████████████| 100%\n",
      "Parse progress: |█████████████████████████████████████████████████████████| 100%\n",
      "Parse progress: |█████████████████████████████████████████████████████████| 100%\n"
     ]
    }
   ],
   "source": [
    "# Преобразование в H2O-Frame\n",
    "\n",
    "h2o_train_c = h2o.H2OFrame(pd.concat([x_train_c, y_train_c], axis=1))\n",
    "h2o_valid_c = h2o.H2OFrame(pd.concat([x_valid_c, y_valid_c], axis=1))\n",
    "h2o_test_c = h2o.H2OFrame(pd.concat([x_test_c, y_test_c], axis=1))"
   ]
  },
  {
   "cell_type": "code",
   "execution_count": 29,
   "metadata": {
    "colab": {
     "base_uri": "https://localhost:8080/",
     "height": 34
    },
    "colab_type": "code",
    "id": "GarP9wfMgmiP",
    "outputId": "24833aec-c9c9-42ea-d28f-fbb3e4c091d6"
   },
   "outputs": [
    {
     "name": "stdout",
     "output_type": "stream",
     "text": [
      "glm Model Build progress: |███████████████████████████████████████████████| 100%\n"
     ]
    }
   ],
   "source": [
    "# Инициализируем и обучим GLM модель c кросс-валидацией\n",
    "\n",
    "glm_poisson = H2OGeneralizedLinearEstimator(family = \"poisson\", link = \"Log\", nfolds=5)\n",
    "glm_poisson.train(y=\"ClaimsCount\", x = h2o_train_c.names[1:-1], training_frame = h2o_train_c, validation_frame = h2o_valid_c, weights_column = \"Exposure\")"
   ]
  },
  {
   "cell_type": "code",
   "execution_count": 30,
   "metadata": {
    "colab": {
     "base_uri": "https://localhost:8080/",
     "height": 185
    },
    "colab_type": "code",
    "id": "10JsIABsBwxq",
    "outputId": "41570c96-7d42-4263-f843-311fcb0690d5"
   },
   "outputs": [
    {
     "name": "stdout",
     "output_type": "stream",
     "text": [
      "\n",
      "GLM Model: summary\n"
     ]
    },
    {
     "data": {
      "text/html": [
       "<div>\n",
       "<style scoped>\n",
       "    .dataframe tbody tr th:only-of-type {\n",
       "        vertical-align: middle;\n",
       "    }\n",
       "\n",
       "    .dataframe tbody tr th {\n",
       "        vertical-align: top;\n",
       "    }\n",
       "\n",
       "    .dataframe thead th {\n",
       "        text-align: right;\n",
       "    }\n",
       "</style>\n",
       "<table border=\"1\" class=\"dataframe\">\n",
       "  <thead>\n",
       "    <tr style=\"text-align: right;\">\n",
       "      <th></th>\n",
       "      <th></th>\n",
       "      <th>family</th>\n",
       "      <th>link</th>\n",
       "      <th>regularization</th>\n",
       "      <th>number_of_predictors_total</th>\n",
       "      <th>number_of_active_predictors</th>\n",
       "      <th>number_of_iterations</th>\n",
       "      <th>training_frame</th>\n",
       "    </tr>\n",
       "  </thead>\n",
       "  <tbody>\n",
       "    <tr>\n",
       "      <th>0</th>\n",
       "      <td></td>\n",
       "      <td>poisson</td>\n",
       "      <td>log</td>\n",
       "      <td>Elastic Net (alpha = 0.5, lambda = 1.336E-4 )</td>\n",
       "      <td>20</td>\n",
       "      <td>19</td>\n",
       "      <td>3</td>\n",
       "      <td>Key_Frame__upload_bca606585da2410f7aa3ca69fb924f07.hex</td>\n",
       "    </tr>\n",
       "  </tbody>\n",
       "</table>\n",
       "</div>"
      ],
      "text/plain": [
       "      family link                                 regularization  \\\n",
       "0    poisson  log  Elastic Net (alpha = 0.5, lambda = 1.336E-4 )   \n",
       "\n",
       "   number_of_predictors_total number_of_active_predictors  \\\n",
       "0                          20                          19   \n",
       "\n",
       "   number_of_iterations  \\\n",
       "0                     3   \n",
       "\n",
       "                                           training_frame  \n",
       "0  Key_Frame__upload_bca606585da2410f7aa3ca69fb924f07.hex  "
      ]
     },
     "metadata": {},
     "output_type": "display_data"
    },
    {
     "data": {
      "text/plain": []
     },
     "execution_count": 30,
     "metadata": {},
     "output_type": "execute_result"
    }
   ],
   "source": [
    "# Параметры модели: распределение, функция связи, гиперпараметры регуляризации, количество использованных объясняющих переменных\n",
    "\n",
    "glm_poisson.summary()"
   ]
  },
  {
   "cell_type": "code",
   "execution_count": 31,
   "metadata": {
    "colab": {
     "base_uri": "https://localhost:8080/",
     "height": 297
    },
    "colab_type": "code",
    "id": "tKL0w-LECQ2G",
    "outputId": "5a7a9829-3754-49fb-e0de-315baa3ad015"
   },
   "outputs": [
    {
     "data": {
      "text/html": [
       "<div>\n",
       "<style scoped>\n",
       "    .dataframe tbody tr th:only-of-type {\n",
       "        vertical-align: middle;\n",
       "    }\n",
       "\n",
       "    .dataframe tbody tr th {\n",
       "        vertical-align: top;\n",
       "    }\n",
       "\n",
       "    .dataframe thead th {\n",
       "        text-align: right;\n",
       "    }\n",
       "</style>\n",
       "<table border=\"1\" class=\"dataframe\">\n",
       "  <thead>\n",
       "    <tr style=\"text-align: right;\">\n",
       "      <th></th>\n",
       "      <th></th>\n",
       "      <th>mean</th>\n",
       "      <th>sd</th>\n",
       "      <th>cv_1_valid</th>\n",
       "      <th>cv_2_valid</th>\n",
       "      <th>cv_3_valid</th>\n",
       "      <th>cv_4_valid</th>\n",
       "      <th>cv_5_valid</th>\n",
       "    </tr>\n",
       "  </thead>\n",
       "  <tbody>\n",
       "    <tr>\n",
       "      <th>0</th>\n",
       "      <td>mae</td>\n",
       "      <td>0.5032977</td>\n",
       "      <td>0.0036341609</td>\n",
       "      <td>0.506035</td>\n",
       "      <td>0.50189</td>\n",
       "      <td>0.5034439</td>\n",
       "      <td>0.49796396</td>\n",
       "      <td>0.50715566</td>\n",
       "    </tr>\n",
       "    <tr>\n",
       "      <th>1</th>\n",
       "      <td>mean_residual_deviance</td>\n",
       "      <td>1.2440319</td>\n",
       "      <td>0.013592847</td>\n",
       "      <td>1.2520902</td>\n",
       "      <td>1.2463809</td>\n",
       "      <td>1.2476101</td>\n",
       "      <td>1.2203357</td>\n",
       "      <td>1.2537426</td>\n",
       "    </tr>\n",
       "    <tr>\n",
       "      <th>2</th>\n",
       "      <td>mse</td>\n",
       "      <td>0.75432396</td>\n",
       "      <td>0.018925728</td>\n",
       "      <td>0.7638568</td>\n",
       "      <td>0.7577031</td>\n",
       "      <td>0.75681365</td>\n",
       "      <td>0.7220708</td>\n",
       "      <td>0.7711755</td>\n",
       "    </tr>\n",
       "    <tr>\n",
       "      <th>3</th>\n",
       "      <td>null_deviance</td>\n",
       "      <td>9086.924</td>\n",
       "      <td>200.83118</td>\n",
       "      <td>9100.537</td>\n",
       "      <td>9041.128</td>\n",
       "      <td>9018.627</td>\n",
       "      <td>8863.906</td>\n",
       "      <td>9410.419</td>\n",
       "    </tr>\n",
       "    <tr>\n",
       "      <th>4</th>\n",
       "      <td>r2</td>\n",
       "      <td>0.011629272</td>\n",
       "      <td>0.003464079</td>\n",
       "      <td>0.015062428</td>\n",
       "      <td>0.009494439</td>\n",
       "      <td>0.0109385345</td>\n",
       "      <td>0.007388881</td>\n",
       "      <td>0.015262076</td>\n",
       "    </tr>\n",
       "    <tr>\n",
       "      <th>5</th>\n",
       "      <td>residual_deviance</td>\n",
       "      <td>8871.022</td>\n",
       "      <td>161.90842</td>\n",
       "      <td>8844.231</td>\n",
       "      <td>8852.633</td>\n",
       "      <td>8814.573</td>\n",
       "      <td>8703.376</td>\n",
       "      <td>9140.299</td>\n",
       "    </tr>\n",
       "    <tr>\n",
       "      <th>6</th>\n",
       "      <td>rmse</td>\n",
       "      <td>0.86846286</td>\n",
       "      <td>0.010967691</td>\n",
       "      <td>0.87398905</td>\n",
       "      <td>0.87046146</td>\n",
       "      <td>0.86995035</td>\n",
       "      <td>0.8497475</td>\n",
       "      <td>0.87816596</td>\n",
       "    </tr>\n",
       "    <tr>\n",
       "      <th>7</th>\n",
       "      <td>rmsle</td>\n",
       "      <td>0.4102306</td>\n",
       "      <td>0.0019690949</td>\n",
       "      <td>0.41150242</td>\n",
       "      <td>0.41003385</td>\n",
       "      <td>0.41074452</td>\n",
       "      <td>0.40695354</td>\n",
       "      <td>0.41191873</td>\n",
       "    </tr>\n",
       "  </tbody>\n",
       "</table>\n",
       "</div>"
      ],
      "text/plain": [
       "                                  mean            sd   cv_1_valid  \\\n",
       "0                     mae    0.5032977  0.0036341609     0.506035   \n",
       "1  mean_residual_deviance    1.2440319   0.013592847    1.2520902   \n",
       "2                     mse   0.75432396   0.018925728    0.7638568   \n",
       "3           null_deviance     9086.924     200.83118     9100.537   \n",
       "4                      r2  0.011629272   0.003464079  0.015062428   \n",
       "5       residual_deviance     8871.022     161.90842     8844.231   \n",
       "6                    rmse   0.86846286   0.010967691   0.87398905   \n",
       "7                   rmsle    0.4102306  0.0019690949   0.41150242   \n",
       "\n",
       "    cv_2_valid    cv_3_valid   cv_4_valid   cv_5_valid  \n",
       "0      0.50189     0.5034439   0.49796396   0.50715566  \n",
       "1    1.2463809     1.2476101    1.2203357    1.2537426  \n",
       "2    0.7577031    0.75681365    0.7220708    0.7711755  \n",
       "3     9041.128      9018.627     8863.906     9410.419  \n",
       "4  0.009494439  0.0109385345  0.007388881  0.015262076  \n",
       "5     8852.633      8814.573     8703.376     9140.299  \n",
       "6   0.87046146    0.86995035    0.8497475   0.87816596  \n",
       "7   0.41003385    0.41074452   0.40695354   0.41191873  "
      ]
     },
     "execution_count": 31,
     "metadata": {},
     "output_type": "execute_result"
    }
   ],
   "source": [
    "# Метрики качества модели - по всем данным и на кросс-валидации\n",
    "\n",
    "glm_poisson.cross_validation_metrics_summary().as_data_frame()"
   ]
  },
  {
   "cell_type": "code",
   "execution_count": 32,
   "metadata": {
    "colab": {
     "base_uri": "https://localhost:8080/",
     "height": 700
    },
    "colab_type": "code",
    "id": "vImto5eTCmzi",
    "outputId": "bf4343ec-8925-4854-82c5-bcc5bb37c805"
   },
   "outputs": [
    {
     "data": {
      "text/html": [
       "<div>\n",
       "<style scoped>\n",
       "    .dataframe tbody tr th:only-of-type {\n",
       "        vertical-align: middle;\n",
       "    }\n",
       "\n",
       "    .dataframe tbody tr th {\n",
       "        vertical-align: top;\n",
       "    }\n",
       "\n",
       "    .dataframe thead th {\n",
       "        text-align: right;\n",
       "    }\n",
       "</style>\n",
       "<table border=\"1\" class=\"dataframe\">\n",
       "  <thead>\n",
       "    <tr style=\"text-align: right;\">\n",
       "      <th></th>\n",
       "      <th>names</th>\n",
       "      <th>coefficients</th>\n",
       "      <th>standardized_coefficients</th>\n",
       "    </tr>\n",
       "  </thead>\n",
       "  <tbody>\n",
       "    <tr>\n",
       "      <th>0</th>\n",
       "      <td>Intercept</td>\n",
       "      <td>-2.220675</td>\n",
       "      <td>-1.285319</td>\n",
       "    </tr>\n",
       "    <tr>\n",
       "      <th>1</th>\n",
       "      <td>LicAge</td>\n",
       "      <td>0.000194</td>\n",
       "      <td>0.030931</td>\n",
       "    </tr>\n",
       "    <tr>\n",
       "      <th>2</th>\n",
       "      <td>Gender</td>\n",
       "      <td>0.003870</td>\n",
       "      <td>0.001874</td>\n",
       "    </tr>\n",
       "    <tr>\n",
       "      <th>3</th>\n",
       "      <td>MariStat</td>\n",
       "      <td>-0.115084</td>\n",
       "      <td>-0.041152</td>\n",
       "    </tr>\n",
       "    <tr>\n",
       "      <th>4</th>\n",
       "      <td>DrivAge</td>\n",
       "      <td>0.004924</td>\n",
       "      <td>0.073696</td>\n",
       "    </tr>\n",
       "    <tr>\n",
       "      <th>5</th>\n",
       "      <td>HasKmLimit</td>\n",
       "      <td>-0.467990</td>\n",
       "      <td>-0.145415</td>\n",
       "    </tr>\n",
       "    <tr>\n",
       "      <th>6</th>\n",
       "      <td>BonusMalus</td>\n",
       "      <td>0.012914</td>\n",
       "      <td>0.194712</td>\n",
       "    </tr>\n",
       "    <tr>\n",
       "      <th>7</th>\n",
       "      <td>OutUseNb</td>\n",
       "      <td>0.084635</td>\n",
       "      <td>0.056781</td>\n",
       "    </tr>\n",
       "    <tr>\n",
       "      <th>8</th>\n",
       "      <td>RiskArea</td>\n",
       "      <td>0.015406</td>\n",
       "      <td>0.034085</td>\n",
       "    </tr>\n",
       "    <tr>\n",
       "      <th>9</th>\n",
       "      <td>VehUsage_Private</td>\n",
       "      <td>-0.200181</td>\n",
       "      <td>-0.094939</td>\n",
       "    </tr>\n",
       "    <tr>\n",
       "      <th>10</th>\n",
       "      <td>VehUsage_Private+trip to office</td>\n",
       "      <td>0.000000</td>\n",
       "      <td>0.000000</td>\n",
       "    </tr>\n",
       "    <tr>\n",
       "      <th>11</th>\n",
       "      <td>VehUsage_Professional</td>\n",
       "      <td>0.306199</td>\n",
       "      <td>0.102734</td>\n",
       "    </tr>\n",
       "    <tr>\n",
       "      <th>12</th>\n",
       "      <td>VehUsage_Professional run</td>\n",
       "      <td>0.436824</td>\n",
       "      <td>0.059233</td>\n",
       "    </tr>\n",
       "    <tr>\n",
       "      <th>13</th>\n",
       "      <td>SocioCateg_CSP1</td>\n",
       "      <td>-0.111144</td>\n",
       "      <td>-0.017234</td>\n",
       "    </tr>\n",
       "    <tr>\n",
       "      <th>14</th>\n",
       "      <td>SocioCateg_CSP2</td>\n",
       "      <td>-0.277864</td>\n",
       "      <td>-0.047303</td>\n",
       "    </tr>\n",
       "    <tr>\n",
       "      <th>15</th>\n",
       "      <td>SocioCateg_CSP3</td>\n",
       "      <td>0.321790</td>\n",
       "      <td>0.033530</td>\n",
       "    </tr>\n",
       "    <tr>\n",
       "      <th>16</th>\n",
       "      <td>SocioCateg_CSP4</td>\n",
       "      <td>0.036640</td>\n",
       "      <td>0.009263</td>\n",
       "    </tr>\n",
       "    <tr>\n",
       "      <th>17</th>\n",
       "      <td>SocioCateg_CSP5</td>\n",
       "      <td>-0.021179</td>\n",
       "      <td>-0.010149</td>\n",
       "    </tr>\n",
       "    <tr>\n",
       "      <th>18</th>\n",
       "      <td>SocioCateg_CSP6</td>\n",
       "      <td>0.076750</td>\n",
       "      <td>0.031951</td>\n",
       "    </tr>\n",
       "    <tr>\n",
       "      <th>19</th>\n",
       "      <td>SocioCateg_CSP7</td>\n",
       "      <td>-0.422138</td>\n",
       "      <td>-0.004134</td>\n",
       "    </tr>\n",
       "    <tr>\n",
       "      <th>20</th>\n",
       "      <td>DrivAgeSq</td>\n",
       "      <td>-0.000069</td>\n",
       "      <td>-0.107275</td>\n",
       "    </tr>\n",
       "  </tbody>\n",
       "</table>\n",
       "</div>"
      ],
      "text/plain": [
       "                              names  coefficients  standardized_coefficients\n",
       "0                         Intercept     -2.220675                  -1.285319\n",
       "1                            LicAge      0.000194                   0.030931\n",
       "2                            Gender      0.003870                   0.001874\n",
       "3                          MariStat     -0.115084                  -0.041152\n",
       "4                           DrivAge      0.004924                   0.073696\n",
       "5                        HasKmLimit     -0.467990                  -0.145415\n",
       "6                        BonusMalus      0.012914                   0.194712\n",
       "7                          OutUseNb      0.084635                   0.056781\n",
       "8                          RiskArea      0.015406                   0.034085\n",
       "9                  VehUsage_Private     -0.200181                  -0.094939\n",
       "10  VehUsage_Private+trip to office      0.000000                   0.000000\n",
       "11            VehUsage_Professional      0.306199                   0.102734\n",
       "12        VehUsage_Professional run      0.436824                   0.059233\n",
       "13                  SocioCateg_CSP1     -0.111144                  -0.017234\n",
       "14                  SocioCateg_CSP2     -0.277864                  -0.047303\n",
       "15                  SocioCateg_CSP3      0.321790                   0.033530\n",
       "16                  SocioCateg_CSP4      0.036640                   0.009263\n",
       "17                  SocioCateg_CSP5     -0.021179                  -0.010149\n",
       "18                  SocioCateg_CSP6      0.076750                   0.031951\n",
       "19                  SocioCateg_CSP7     -0.422138                  -0.004134\n",
       "20                        DrivAgeSq     -0.000069                  -0.107275"
      ]
     },
     "execution_count": 32,
     "metadata": {},
     "output_type": "execute_result"
    }
   ],
   "source": [
    "# Таблица коэффициентов модели (в зависимости от модели могут выводиться также стандартная ошибка, z-score и p-value)\n",
    "\n",
    "glm_poisson._model_json['output']['coefficients_table'].as_data_frame()"
   ]
  },
  {
   "cell_type": "code",
   "execution_count": 33,
   "metadata": {
    "colab": {
     "base_uri": "https://localhost:8080/",
     "height": 700
    },
    "colab_type": "code",
    "id": "Z6CZpc6WAx-d",
    "outputId": "bd8bb22b-7259-4a66-d9da-67941a03a451"
   },
   "outputs": [
    {
     "data": {
      "text/html": [
       "<div>\n",
       "<style scoped>\n",
       "    .dataframe tbody tr th:only-of-type {\n",
       "        vertical-align: middle;\n",
       "    }\n",
       "\n",
       "    .dataframe tbody tr th {\n",
       "        vertical-align: top;\n",
       "    }\n",
       "\n",
       "    .dataframe thead th {\n",
       "        text-align: right;\n",
       "    }\n",
       "</style>\n",
       "<table border=\"1\" class=\"dataframe\">\n",
       "  <thead>\n",
       "    <tr style=\"text-align: right;\">\n",
       "      <th></th>\n",
       "      <th>overall</th>\n",
       "      <th>0</th>\n",
       "      <th>1</th>\n",
       "      <th>2</th>\n",
       "      <th>3</th>\n",
       "      <th>4</th>\n",
       "    </tr>\n",
       "  </thead>\n",
       "  <tbody>\n",
       "    <tr>\n",
       "      <th>Intercept</th>\n",
       "      <td>-1.28532</td>\n",
       "      <td>-1.28949</td>\n",
       "      <td>-1.28359</td>\n",
       "      <td>-1.28517</td>\n",
       "      <td>-1.28164</td>\n",
       "      <td>-1.28807</td>\n",
       "    </tr>\n",
       "    <tr>\n",
       "      <th>LicAge</th>\n",
       "      <td>0.03093</td>\n",
       "      <td>0.04856</td>\n",
       "      <td>0.04506</td>\n",
       "      <td>0.01601</td>\n",
       "      <td>0.00786</td>\n",
       "      <td>0.04149</td>\n",
       "    </tr>\n",
       "    <tr>\n",
       "      <th>Gender</th>\n",
       "      <td>0.00187</td>\n",
       "      <td>0.00000</td>\n",
       "      <td>0.00343</td>\n",
       "      <td>0.00290</td>\n",
       "      <td>0.00177</td>\n",
       "      <td>0.00115</td>\n",
       "    </tr>\n",
       "    <tr>\n",
       "      <th>MariStat</th>\n",
       "      <td>-0.04115</td>\n",
       "      <td>-0.04453</td>\n",
       "      <td>-0.04217</td>\n",
       "      <td>-0.04393</td>\n",
       "      <td>-0.04234</td>\n",
       "      <td>-0.03416</td>\n",
       "    </tr>\n",
       "    <tr>\n",
       "      <th>DrivAge</th>\n",
       "      <td>0.07370</td>\n",
       "      <td>0.14592</td>\n",
       "      <td>0.00619</td>\n",
       "      <td>0.00082</td>\n",
       "      <td>0.09216</td>\n",
       "      <td>0.06374</td>\n",
       "    </tr>\n",
       "    <tr>\n",
       "      <th>HasKmLimit</th>\n",
       "      <td>-0.14541</td>\n",
       "      <td>-0.14525</td>\n",
       "      <td>-0.13536</td>\n",
       "      <td>-0.15137</td>\n",
       "      <td>-0.15171</td>\n",
       "      <td>-0.14323</td>\n",
       "    </tr>\n",
       "    <tr>\n",
       "      <th>BonusMalus</th>\n",
       "      <td>0.19471</td>\n",
       "      <td>0.19461</td>\n",
       "      <td>0.19239</td>\n",
       "      <td>0.19761</td>\n",
       "      <td>0.19629</td>\n",
       "      <td>0.19019</td>\n",
       "    </tr>\n",
       "    <tr>\n",
       "      <th>OutUseNb</th>\n",
       "      <td>0.05678</td>\n",
       "      <td>0.05027</td>\n",
       "      <td>0.06241</td>\n",
       "      <td>0.04884</td>\n",
       "      <td>0.06669</td>\n",
       "      <td>0.05544</td>\n",
       "    </tr>\n",
       "    <tr>\n",
       "      <th>RiskArea</th>\n",
       "      <td>0.03408</td>\n",
       "      <td>0.04276</td>\n",
       "      <td>0.04368</td>\n",
       "      <td>0.03337</td>\n",
       "      <td>0.03203</td>\n",
       "      <td>0.01876</td>\n",
       "    </tr>\n",
       "    <tr>\n",
       "      <th>VehUsage_Private</th>\n",
       "      <td>-0.09494</td>\n",
       "      <td>-0.08173</td>\n",
       "      <td>-0.10707</td>\n",
       "      <td>-0.10105</td>\n",
       "      <td>-0.08655</td>\n",
       "      <td>-0.09720</td>\n",
       "    </tr>\n",
       "    <tr>\n",
       "      <th>VehUsage_Private+trip to office</th>\n",
       "      <td>0.00000</td>\n",
       "      <td>0.00000</td>\n",
       "      <td>0.00000</td>\n",
       "      <td>0.00000</td>\n",
       "      <td>0.00000</td>\n",
       "      <td>0.00000</td>\n",
       "    </tr>\n",
       "    <tr>\n",
       "      <th>VehUsage_Professional</th>\n",
       "      <td>0.10273</td>\n",
       "      <td>0.09393</td>\n",
       "      <td>0.10149</td>\n",
       "      <td>0.09489</td>\n",
       "      <td>0.11833</td>\n",
       "      <td>0.10621</td>\n",
       "    </tr>\n",
       "    <tr>\n",
       "      <th>VehUsage_Professional run</th>\n",
       "      <td>0.05923</td>\n",
       "      <td>0.04778</td>\n",
       "      <td>0.05914</td>\n",
       "      <td>0.06611</td>\n",
       "      <td>0.06736</td>\n",
       "      <td>0.05559</td>\n",
       "    </tr>\n",
       "    <tr>\n",
       "      <th>SocioCateg_CSP1</th>\n",
       "      <td>-0.01723</td>\n",
       "      <td>-0.01974</td>\n",
       "      <td>-0.01877</td>\n",
       "      <td>-0.01975</td>\n",
       "      <td>-0.02725</td>\n",
       "      <td>-0.01454</td>\n",
       "    </tr>\n",
       "    <tr>\n",
       "      <th>SocioCateg_CSP2</th>\n",
       "      <td>-0.04730</td>\n",
       "      <td>-0.05259</td>\n",
       "      <td>-0.04479</td>\n",
       "      <td>-0.05468</td>\n",
       "      <td>-0.05788</td>\n",
       "      <td>-0.04315</td>\n",
       "    </tr>\n",
       "    <tr>\n",
       "      <th>SocioCateg_CSP3</th>\n",
       "      <td>0.03353</td>\n",
       "      <td>0.03435</td>\n",
       "      <td>0.03629</td>\n",
       "      <td>0.02766</td>\n",
       "      <td>0.03307</td>\n",
       "      <td>0.02575</td>\n",
       "    </tr>\n",
       "    <tr>\n",
       "      <th>SocioCateg_CSP4</th>\n",
       "      <td>0.00926</td>\n",
       "      <td>0.00743</td>\n",
       "      <td>0.01144</td>\n",
       "      <td>0.00266</td>\n",
       "      <td>0.00049</td>\n",
       "      <td>0.00089</td>\n",
       "    </tr>\n",
       "    <tr>\n",
       "      <th>SocioCateg_CSP5</th>\n",
       "      <td>-0.01015</td>\n",
       "      <td>-0.03104</td>\n",
       "      <td>-0.01610</td>\n",
       "      <td>-0.02285</td>\n",
       "      <td>-0.01774</td>\n",
       "      <td>-0.00619</td>\n",
       "    </tr>\n",
       "    <tr>\n",
       "      <th>SocioCateg_CSP6</th>\n",
       "      <td>0.03195</td>\n",
       "      <td>0.02511</td>\n",
       "      <td>0.01116</td>\n",
       "      <td>0.01985</td>\n",
       "      <td>0.03315</td>\n",
       "      <td>0.02762</td>\n",
       "    </tr>\n",
       "    <tr>\n",
       "      <th>SocioCateg_CSP7</th>\n",
       "      <td>-0.00413</td>\n",
       "      <td>0.00102</td>\n",
       "      <td>-0.02537</td>\n",
       "      <td>-0.00432</td>\n",
       "      <td>-0.00557</td>\n",
       "      <td>-0.00413</td>\n",
       "    </tr>\n",
       "    <tr>\n",
       "      <th>DrivAgeSq</th>\n",
       "      <td>-0.10728</td>\n",
       "      <td>-0.21594</td>\n",
       "      <td>-0.03835</td>\n",
       "      <td>-0.01744</td>\n",
       "      <td>-0.10256</td>\n",
       "      <td>-0.10420</td>\n",
       "    </tr>\n",
       "  </tbody>\n",
       "</table>\n",
       "</div>"
      ],
      "text/plain": [
       "                                 overall        0        1        2        3  \\\n",
       "Intercept                       -1.28532 -1.28949 -1.28359 -1.28517 -1.28164   \n",
       "LicAge                           0.03093  0.04856  0.04506  0.01601  0.00786   \n",
       "Gender                           0.00187  0.00000  0.00343  0.00290  0.00177   \n",
       "MariStat                        -0.04115 -0.04453 -0.04217 -0.04393 -0.04234   \n",
       "DrivAge                          0.07370  0.14592  0.00619  0.00082  0.09216   \n",
       "HasKmLimit                      -0.14541 -0.14525 -0.13536 -0.15137 -0.15171   \n",
       "BonusMalus                       0.19471  0.19461  0.19239  0.19761  0.19629   \n",
       "OutUseNb                         0.05678  0.05027  0.06241  0.04884  0.06669   \n",
       "RiskArea                         0.03408  0.04276  0.04368  0.03337  0.03203   \n",
       "VehUsage_Private                -0.09494 -0.08173 -0.10707 -0.10105 -0.08655   \n",
       "VehUsage_Private+trip to office  0.00000  0.00000  0.00000  0.00000  0.00000   \n",
       "VehUsage_Professional            0.10273  0.09393  0.10149  0.09489  0.11833   \n",
       "VehUsage_Professional run        0.05923  0.04778  0.05914  0.06611  0.06736   \n",
       "SocioCateg_CSP1                 -0.01723 -0.01974 -0.01877 -0.01975 -0.02725   \n",
       "SocioCateg_CSP2                 -0.04730 -0.05259 -0.04479 -0.05468 -0.05788   \n",
       "SocioCateg_CSP3                  0.03353  0.03435  0.03629  0.02766  0.03307   \n",
       "SocioCateg_CSP4                  0.00926  0.00743  0.01144  0.00266  0.00049   \n",
       "SocioCateg_CSP5                 -0.01015 -0.03104 -0.01610 -0.02285 -0.01774   \n",
       "SocioCateg_CSP6                  0.03195  0.02511  0.01116  0.01985  0.03315   \n",
       "SocioCateg_CSP7                 -0.00413  0.00102 -0.02537 -0.00432 -0.00557   \n",
       "DrivAgeSq                       -0.10728 -0.21594 -0.03835 -0.01744 -0.10256   \n",
       "\n",
       "                                       4  \n",
       "Intercept                       -1.28807  \n",
       "LicAge                           0.04149  \n",
       "Gender                           0.00115  \n",
       "MariStat                        -0.03416  \n",
       "DrivAge                          0.06374  \n",
       "HasKmLimit                      -0.14323  \n",
       "BonusMalus                       0.19019  \n",
       "OutUseNb                         0.05544  \n",
       "RiskArea                         0.01876  \n",
       "VehUsage_Private                -0.09720  \n",
       "VehUsage_Private+trip to office  0.00000  \n",
       "VehUsage_Professional            0.10621  \n",
       "VehUsage_Professional run        0.05559  \n",
       "SocioCateg_CSP1                 -0.01454  \n",
       "SocioCateg_CSP2                 -0.04315  \n",
       "SocioCateg_CSP3                  0.02575  \n",
       "SocioCateg_CSP4                  0.00089  \n",
       "SocioCateg_CSP5                 -0.00619  \n",
       "SocioCateg_CSP6                  0.02762  \n",
       "SocioCateg_CSP7                 -0.00413  \n",
       "DrivAgeSq                       -0.10420  "
      ]
     },
     "execution_count": 33,
     "metadata": {},
     "output_type": "execute_result"
    }
   ],
   "source": [
    "# Таблица нормированных коэффициентов по всем данным и на кросс-валидации\n",
    "\n",
    "pmodels = {}\n",
    "pmodels['overall'] = glm_poisson.coef_norm()\n",
    "for x in range(len(glm_poisson.cross_validation_models())):\n",
    "    pmodels[x] = glm_poisson.cross_validation_models()[x].coef_norm()\n",
    "pd.DataFrame.from_dict(pmodels).round(5)"
   ]
  },
  {
   "cell_type": "code",
   "execution_count": 34,
   "metadata": {
    "colab": {
     "base_uri": "https://localhost:8080/",
     "height": 68
    },
    "colab_type": "code",
    "id": "RiHV0aTKHjdK",
    "outputId": "c964896f-5048-42e8-fd23-f6e6c4c03cc8"
   },
   "outputs": [
    {
     "name": "stdout",
     "output_type": "stream",
     "text": [
      "glm prediction progress: |████████████████████████████████████████████████| 100%\n",
      "glm prediction progress: |████████████████████████████████████████████████| 100%\n",
      "glm prediction progress: |████████████████████████████████████████████████| 100%\n"
     ]
    }
   ],
   "source": [
    "# Построение прогнозных значений для обучающей, валидационной и тестовой выборок\n",
    "\n",
    "c_train_pred = glm_poisson.predict(h2o_train_c).as_data_frame()\n",
    "c_valid_pred = glm_poisson.predict(h2o_valid_c).as_data_frame()\n",
    "c_test_pred = glm_poisson.predict(h2o_test_c).as_data_frame()"
   ]
  },
  {
   "cell_type": "code",
   "execution_count": 35,
   "metadata": {
    "colab": {},
    "colab_type": "code",
    "id": "BL8JJbnVTrY5"
   },
   "outputs": [],
   "source": [
    "# Сохранение обученной модели\n",
    "\n",
    "model_glm_poisson = h2o.save_model(model=glm_poisson, path=\"/content/drive/My Drive/Colab Notebooks/\", force=True)"
   ]
  },
  {
   "cell_type": "code",
   "execution_count": 36,
   "metadata": {
    "colab": {
     "base_uri": "https://localhost:8080/",
     "height": 34
    },
    "colab_type": "code",
    "id": "bsXU4eF4T5cX",
    "outputId": "900beefb-24ec-49d8-d0ac-3d4caa477025"
   },
   "outputs": [
    {
     "data": {
      "text/plain": [
       "'C:\\\\content\\\\drive\\\\My Drive\\\\Colab Notebooks\\\\GLM_model_python_1588251408301_1'"
      ]
     },
     "execution_count": 36,
     "metadata": {},
     "output_type": "execute_result"
    }
   ],
   "source": [
    "model_glm_poisson"
   ]
  },
  {
   "cell_type": "markdown",
   "metadata": {
    "colab_type": "text",
    "id": "8nmnj56EM9gK"
   },
   "source": [
    "### Построение GLM для среднего убытка"
   ]
  },
  {
   "cell_type": "code",
   "execution_count": 37,
   "metadata": {
    "colab": {
     "base_uri": "https://localhost:8080/",
     "height": 68
    },
    "colab_type": "code",
    "id": "9u4TIE54NAeo",
    "outputId": "2393ae7a-80c7-45aa-a024-bb3f14be32de"
   },
   "outputs": [
    {
     "name": "stdout",
     "output_type": "stream",
     "text": [
      "Parse progress: |█████████████████████████████████████████████████████████| 100%\n",
      "Parse progress: |█████████████████████████████████████████████████████████| 100%\n",
      "Parse progress: |█████████████████████████████████████████████████████████| 100%\n"
     ]
    }
   ],
   "source": [
    "# Преобразование в H2O-Frame\n",
    "\n",
    "h2o_train_ac = h2o.H2OFrame(pd.concat([x_train_ac, y_train_ac], axis=1))\n",
    "h2o_valid_ac = h2o.H2OFrame(pd.concat([x_valid_ac, y_valid_ac], axis=1))\n",
    "h2o_test_ac = h2o.H2OFrame(pd.concat([x_test_ac, y_test_ac], axis=1))"
   ]
  },
  {
   "cell_type": "code",
   "execution_count": 38,
   "metadata": {
    "colab": {
     "base_uri": "https://localhost:8080/",
     "height": 34
    },
    "colab_type": "code",
    "id": "O4ZJ3o25EKnP",
    "outputId": "3d12f421-86df-479d-ba85-e2473b1b90d0"
   },
   "outputs": [
    {
     "name": "stdout",
     "output_type": "stream",
     "text": [
      "glm Model Build progress: |███████████████████████████████████████████████| 100%\n"
     ]
    }
   ],
   "source": [
    "# Инициализируем и обучим GLM модель c кросс-валидацией\n",
    "\n",
    "glm_gamma = H2OGeneralizedLinearEstimator(family = \"gamma\", link = \"Log\", nfolds=5)\n",
    "glm_gamma.train(y=\"AvgClaim\", x = h2o_train_ac.names[1:-1], training_frame = h2o_train_ac, validation_frame = h2o_valid_ac, weights_column = \"Exposure\")"
   ]
  },
  {
   "cell_type": "code",
   "execution_count": 39,
   "metadata": {
    "colab": {
     "base_uri": "https://localhost:8080/",
     "height": 185
    },
    "colab_type": "code",
    "id": "tAC4dIdJEKXl",
    "outputId": "76087959-7966-484c-a3d1-287ec6cccae0"
   },
   "outputs": [
    {
     "name": "stdout",
     "output_type": "stream",
     "text": [
      "\n",
      "GLM Model: summary\n"
     ]
    },
    {
     "data": {
      "text/html": [
       "<div>\n",
       "<style scoped>\n",
       "    .dataframe tbody tr th:only-of-type {\n",
       "        vertical-align: middle;\n",
       "    }\n",
       "\n",
       "    .dataframe tbody tr th {\n",
       "        vertical-align: top;\n",
       "    }\n",
       "\n",
       "    .dataframe thead th {\n",
       "        text-align: right;\n",
       "    }\n",
       "</style>\n",
       "<table border=\"1\" class=\"dataframe\">\n",
       "  <thead>\n",
       "    <tr style=\"text-align: right;\">\n",
       "      <th></th>\n",
       "      <th></th>\n",
       "      <th>family</th>\n",
       "      <th>link</th>\n",
       "      <th>regularization</th>\n",
       "      <th>number_of_predictors_total</th>\n",
       "      <th>number_of_active_predictors</th>\n",
       "      <th>number_of_iterations</th>\n",
       "      <th>training_frame</th>\n",
       "    </tr>\n",
       "  </thead>\n",
       "  <tbody>\n",
       "    <tr>\n",
       "      <th>0</th>\n",
       "      <td></td>\n",
       "      <td>gamma</td>\n",
       "      <td>log</td>\n",
       "      <td>Elastic Net (alpha = 0.5, lambda = 1.784E-4 )</td>\n",
       "      <td>20</td>\n",
       "      <td>18</td>\n",
       "      <td>3</td>\n",
       "      <td>Key_Frame__upload_8dfd21559d30b089ee7d49e0854f4d50.hex</td>\n",
       "    </tr>\n",
       "  </tbody>\n",
       "</table>\n",
       "</div>"
      ],
      "text/plain": [
       "    family link                                 regularization  \\\n",
       "0    gamma  log  Elastic Net (alpha = 0.5, lambda = 1.784E-4 )   \n",
       "\n",
       "   number_of_predictors_total number_of_active_predictors  \\\n",
       "0                          20                          18   \n",
       "\n",
       "   number_of_iterations  \\\n",
       "0                     3   \n",
       "\n",
       "                                           training_frame  \n",
       "0  Key_Frame__upload_8dfd21559d30b089ee7d49e0854f4d50.hex  "
      ]
     },
     "metadata": {},
     "output_type": "display_data"
    },
    {
     "data": {
      "text/plain": []
     },
     "execution_count": 39,
     "metadata": {},
     "output_type": "execute_result"
    }
   ],
   "source": [
    "# Параметры модели: распределение, функция связи, гиперпараметры регуляризации, количество использованных объясняющих переменных\n",
    "\n",
    "glm_gamma.summary()"
   ]
  },
  {
   "cell_type": "code",
   "execution_count": 40,
   "metadata": {
    "colab": {
     "base_uri": "https://localhost:8080/",
     "height": 297
    },
    "colab_type": "code",
    "id": "NfRbZGBoE7vP",
    "outputId": "79bd3725-3be1-4961-fb09-3f886db1c452"
   },
   "outputs": [
    {
     "data": {
      "text/html": [
       "<div>\n",
       "<style scoped>\n",
       "    .dataframe tbody tr th:only-of-type {\n",
       "        vertical-align: middle;\n",
       "    }\n",
       "\n",
       "    .dataframe tbody tr th {\n",
       "        vertical-align: top;\n",
       "    }\n",
       "\n",
       "    .dataframe thead th {\n",
       "        text-align: right;\n",
       "    }\n",
       "</style>\n",
       "<table border=\"1\" class=\"dataframe\">\n",
       "  <thead>\n",
       "    <tr style=\"text-align: right;\">\n",
       "      <th></th>\n",
       "      <th></th>\n",
       "      <th>mean</th>\n",
       "      <th>sd</th>\n",
       "      <th>cv_1_valid</th>\n",
       "      <th>cv_2_valid</th>\n",
       "      <th>cv_3_valid</th>\n",
       "      <th>cv_4_valid</th>\n",
       "      <th>cv_5_valid</th>\n",
       "    </tr>\n",
       "  </thead>\n",
       "  <tbody>\n",
       "    <tr>\n",
       "      <th>0</th>\n",
       "      <td>mae</td>\n",
       "      <td>1043.513</td>\n",
       "      <td>42.572292</td>\n",
       "      <td>976.50696</td>\n",
       "      <td>1084.5424</td>\n",
       "      <td>1055.9698</td>\n",
       "      <td>1070.6421</td>\n",
       "      <td>1029.9033</td>\n",
       "    </tr>\n",
       "    <tr>\n",
       "      <th>1</th>\n",
       "      <td>mean_residual_deviance</td>\n",
       "      <td>1.9574722</td>\n",
       "      <td>0.06110609</td>\n",
       "      <td>1.8712351</td>\n",
       "      <td>2.0346165</td>\n",
       "      <td>1.9414595</td>\n",
       "      <td>1.9921179</td>\n",
       "      <td>1.9479318</td>\n",
       "    </tr>\n",
       "    <tr>\n",
       "      <th>2</th>\n",
       "      <td>mse</td>\n",
       "      <td>7354208.5</td>\n",
       "      <td>7070311.5</td>\n",
       "      <td>2508499.5</td>\n",
       "      <td>6274088.5</td>\n",
       "      <td>4644123.0</td>\n",
       "      <td>1.9755346E7</td>\n",
       "      <td>3588986.5</td>\n",
       "    </tr>\n",
       "    <tr>\n",
       "      <th>3</th>\n",
       "      <td>null_deviance</td>\n",
       "      <td>1787.918</td>\n",
       "      <td>76.47664</td>\n",
       "      <td>1732.7142</td>\n",
       "      <td>1887.8292</td>\n",
       "      <td>1694.4679</td>\n",
       "      <td>1797.3865</td>\n",
       "      <td>1827.192</td>\n",
       "    </tr>\n",
       "    <tr>\n",
       "      <th>4</th>\n",
       "      <td>r2</td>\n",
       "      <td>-9.474682E-4</td>\n",
       "      <td>0.0038908662</td>\n",
       "      <td>-0.0039145956</td>\n",
       "      <td>-7.598335E-4</td>\n",
       "      <td>-0.0051206443</td>\n",
       "      <td>2.781879E-4</td>\n",
       "      <td>0.004779544</td>\n",
       "    </tr>\n",
       "    <tr>\n",
       "      <th>5</th>\n",
       "      <td>residual_deviance</td>\n",
       "      <td>1787.6354</td>\n",
       "      <td>76.43956</td>\n",
       "      <td>1719.5248</td>\n",
       "      <td>1898.3257</td>\n",
       "      <td>1711.6995</td>\n",
       "      <td>1795.4241</td>\n",
       "      <td>1813.2031</td>\n",
       "    </tr>\n",
       "    <tr>\n",
       "      <th>6</th>\n",
       "      <td>rmse</td>\n",
       "      <td>2516.5642</td>\n",
       "      <td>1129.7751</td>\n",
       "      <td>1583.8243</td>\n",
       "      <td>2504.813</td>\n",
       "      <td>2155.0227</td>\n",
       "      <td>4444.6987</td>\n",
       "      <td>1894.462</td>\n",
       "    </tr>\n",
       "    <tr>\n",
       "      <th>7</th>\n",
       "      <td>rmsle</td>\n",
       "      <td>1.7126696</td>\n",
       "      <td>0.045548283</td>\n",
       "      <td>1.7739097</td>\n",
       "      <td>1.697543</td>\n",
       "      <td>1.6748492</td>\n",
       "      <td>1.670743</td>\n",
       "      <td>1.746303</td>\n",
       "    </tr>\n",
       "  </tbody>\n",
       "</table>\n",
       "</div>"
      ],
      "text/plain": [
       "                                   mean            sd     cv_1_valid  \\\n",
       "0                     mae      1043.513     42.572292      976.50696   \n",
       "1  mean_residual_deviance     1.9574722    0.06110609      1.8712351   \n",
       "2                     mse     7354208.5     7070311.5      2508499.5   \n",
       "3           null_deviance      1787.918      76.47664      1732.7142   \n",
       "4                      r2  -9.474682E-4  0.0038908662  -0.0039145956   \n",
       "5       residual_deviance     1787.6354      76.43956      1719.5248   \n",
       "6                    rmse     2516.5642     1129.7751      1583.8243   \n",
       "7                   rmsle     1.7126696   0.045548283      1.7739097   \n",
       "\n",
       "     cv_2_valid     cv_3_valid   cv_4_valid   cv_5_valid  \n",
       "0     1084.5424      1055.9698    1070.6421    1029.9033  \n",
       "1     2.0346165      1.9414595    1.9921179    1.9479318  \n",
       "2     6274088.5      4644123.0  1.9755346E7    3588986.5  \n",
       "3     1887.8292      1694.4679    1797.3865     1827.192  \n",
       "4  -7.598335E-4  -0.0051206443  2.781879E-4  0.004779544  \n",
       "5     1898.3257      1711.6995    1795.4241    1813.2031  \n",
       "6      2504.813      2155.0227    4444.6987     1894.462  \n",
       "7      1.697543      1.6748492     1.670743     1.746303  "
      ]
     },
     "execution_count": 40,
     "metadata": {},
     "output_type": "execute_result"
    }
   ],
   "source": [
    "# Метрики качества модели - по всем данным и на кросс-валидации\n",
    "\n",
    "glm_gamma.cross_validation_metrics_summary().as_data_frame()"
   ]
  },
  {
   "cell_type": "code",
   "execution_count": 41,
   "metadata": {
    "colab": {
     "base_uri": "https://localhost:8080/",
     "height": 700
    },
    "colab_type": "code",
    "id": "uHZ93uk_E7nZ",
    "outputId": "9df5750d-c65e-4825-ed70-78e6470de5b2"
   },
   "outputs": [
    {
     "data": {
      "text/html": [
       "<div>\n",
       "<style scoped>\n",
       "    .dataframe tbody tr th:only-of-type {\n",
       "        vertical-align: middle;\n",
       "    }\n",
       "\n",
       "    .dataframe tbody tr th {\n",
       "        vertical-align: top;\n",
       "    }\n",
       "\n",
       "    .dataframe thead th {\n",
       "        text-align: right;\n",
       "    }\n",
       "</style>\n",
       "<table border=\"1\" class=\"dataframe\">\n",
       "  <thead>\n",
       "    <tr style=\"text-align: right;\">\n",
       "      <th></th>\n",
       "      <th>names</th>\n",
       "      <th>coefficients</th>\n",
       "      <th>standardized_coefficients</th>\n",
       "    </tr>\n",
       "  </thead>\n",
       "  <tbody>\n",
       "    <tr>\n",
       "      <th>0</th>\n",
       "      <td>Intercept</td>\n",
       "      <td>7.447459</td>\n",
       "      <td>6.923914</td>\n",
       "    </tr>\n",
       "    <tr>\n",
       "      <th>1</th>\n",
       "      <td>LicAge</td>\n",
       "      <td>-0.000361</td>\n",
       "      <td>-0.057896</td>\n",
       "    </tr>\n",
       "    <tr>\n",
       "      <th>2</th>\n",
       "      <td>Gender</td>\n",
       "      <td>-0.044813</td>\n",
       "      <td>-0.021696</td>\n",
       "    </tr>\n",
       "    <tr>\n",
       "      <th>3</th>\n",
       "      <td>MariStat</td>\n",
       "      <td>0.152243</td>\n",
       "      <td>0.056025</td>\n",
       "    </tr>\n",
       "    <tr>\n",
       "      <th>4</th>\n",
       "      <td>DrivAge</td>\n",
       "      <td>-0.026294</td>\n",
       "      <td>-0.389649</td>\n",
       "    </tr>\n",
       "    <tr>\n",
       "      <th>5</th>\n",
       "      <td>HasKmLimit</td>\n",
       "      <td>-0.086212</td>\n",
       "      <td>-0.021160</td>\n",
       "    </tr>\n",
       "    <tr>\n",
       "      <th>6</th>\n",
       "      <td>BonusMalus</td>\n",
       "      <td>-0.003733</td>\n",
       "      <td>-0.062010</td>\n",
       "    </tr>\n",
       "    <tr>\n",
       "      <th>7</th>\n",
       "      <td>OutUseNb</td>\n",
       "      <td>0.005180</td>\n",
       "      <td>0.003776</td>\n",
       "    </tr>\n",
       "    <tr>\n",
       "      <th>8</th>\n",
       "      <td>RiskArea</td>\n",
       "      <td>0.040690</td>\n",
       "      <td>0.091382</td>\n",
       "    </tr>\n",
       "    <tr>\n",
       "      <th>9</th>\n",
       "      <td>VehUsage_Private</td>\n",
       "      <td>0.044360</td>\n",
       "      <td>0.020112</td>\n",
       "    </tr>\n",
       "    <tr>\n",
       "      <th>10</th>\n",
       "      <td>VehUsage_Private+trip to office</td>\n",
       "      <td>0.000000</td>\n",
       "      <td>0.000000</td>\n",
       "    </tr>\n",
       "    <tr>\n",
       "      <th>11</th>\n",
       "      <td>VehUsage_Professional</td>\n",
       "      <td>-0.001817</td>\n",
       "      <td>-0.000670</td>\n",
       "    </tr>\n",
       "    <tr>\n",
       "      <th>12</th>\n",
       "      <td>VehUsage_Professional run</td>\n",
       "      <td>-0.252844</td>\n",
       "      <td>-0.039146</td>\n",
       "    </tr>\n",
       "    <tr>\n",
       "      <th>13</th>\n",
       "      <td>SocioCateg_CSP1</td>\n",
       "      <td>-0.032338</td>\n",
       "      <td>-0.005088</td>\n",
       "    </tr>\n",
       "    <tr>\n",
       "      <th>14</th>\n",
       "      <td>SocioCateg_CSP2</td>\n",
       "      <td>-0.105878</td>\n",
       "      <td>-0.018323</td>\n",
       "    </tr>\n",
       "    <tr>\n",
       "      <th>15</th>\n",
       "      <td>SocioCateg_CSP3</td>\n",
       "      <td>0.083177</td>\n",
       "      <td>0.008488</td>\n",
       "    </tr>\n",
       "    <tr>\n",
       "      <th>16</th>\n",
       "      <td>SocioCateg_CSP4</td>\n",
       "      <td>-0.093999</td>\n",
       "      <td>-0.026331</td>\n",
       "    </tr>\n",
       "    <tr>\n",
       "      <th>17</th>\n",
       "      <td>SocioCateg_CSP5</td>\n",
       "      <td>0.035310</td>\n",
       "      <td>0.016781</td>\n",
       "    </tr>\n",
       "    <tr>\n",
       "      <th>18</th>\n",
       "      <td>SocioCateg_CSP6</td>\n",
       "      <td>0.000000</td>\n",
       "      <td>0.000000</td>\n",
       "    </tr>\n",
       "    <tr>\n",
       "      <th>19</th>\n",
       "      <td>SocioCateg_CSP7</td>\n",
       "      <td>-1.331436</td>\n",
       "      <td>-0.014968</td>\n",
       "    </tr>\n",
       "    <tr>\n",
       "      <th>20</th>\n",
       "      <td>DrivAgeSq</td>\n",
       "      <td>0.000291</td>\n",
       "      <td>0.435502</td>\n",
       "    </tr>\n",
       "  </tbody>\n",
       "</table>\n",
       "</div>"
      ],
      "text/plain": [
       "                              names  coefficients  standardized_coefficients\n",
       "0                         Intercept      7.447459                   6.923914\n",
       "1                            LicAge     -0.000361                  -0.057896\n",
       "2                            Gender     -0.044813                  -0.021696\n",
       "3                          MariStat      0.152243                   0.056025\n",
       "4                           DrivAge     -0.026294                  -0.389649\n",
       "5                        HasKmLimit     -0.086212                  -0.021160\n",
       "6                        BonusMalus     -0.003733                  -0.062010\n",
       "7                          OutUseNb      0.005180                   0.003776\n",
       "8                          RiskArea      0.040690                   0.091382\n",
       "9                  VehUsage_Private      0.044360                   0.020112\n",
       "10  VehUsage_Private+trip to office      0.000000                   0.000000\n",
       "11            VehUsage_Professional     -0.001817                  -0.000670\n",
       "12        VehUsage_Professional run     -0.252844                  -0.039146\n",
       "13                  SocioCateg_CSP1     -0.032338                  -0.005088\n",
       "14                  SocioCateg_CSP2     -0.105878                  -0.018323\n",
       "15                  SocioCateg_CSP3      0.083177                   0.008488\n",
       "16                  SocioCateg_CSP4     -0.093999                  -0.026331\n",
       "17                  SocioCateg_CSP5      0.035310                   0.016781\n",
       "18                  SocioCateg_CSP6      0.000000                   0.000000\n",
       "19                  SocioCateg_CSP7     -1.331436                  -0.014968\n",
       "20                        DrivAgeSq      0.000291                   0.435502"
      ]
     },
     "execution_count": 41,
     "metadata": {},
     "output_type": "execute_result"
    }
   ],
   "source": [
    "# Таблица коэффициентов модели (в зависимости от модели могут выводиться также стандартная ошибка, z-score и p-value)\n",
    "\n",
    "glm_gamma._model_json['output']['coefficients_table'].as_data_frame()"
   ]
  },
  {
   "cell_type": "code",
   "execution_count": 42,
   "metadata": {
    "colab": {
     "base_uri": "https://localhost:8080/",
     "height": 700
    },
    "colab_type": "code",
    "id": "DFa-sS1ME7eq",
    "outputId": "ebc080dc-e172-432b-bb0c-c315daf54e56"
   },
   "outputs": [
    {
     "data": {
      "text/html": [
       "<div>\n",
       "<style scoped>\n",
       "    .dataframe tbody tr th:only-of-type {\n",
       "        vertical-align: middle;\n",
       "    }\n",
       "\n",
       "    .dataframe tbody tr th {\n",
       "        vertical-align: top;\n",
       "    }\n",
       "\n",
       "    .dataframe thead th {\n",
       "        text-align: right;\n",
       "    }\n",
       "</style>\n",
       "<table border=\"1\" class=\"dataframe\">\n",
       "  <thead>\n",
       "    <tr style=\"text-align: right;\">\n",
       "      <th></th>\n",
       "      <th>overall</th>\n",
       "      <th>0</th>\n",
       "      <th>1</th>\n",
       "      <th>2</th>\n",
       "      <th>3</th>\n",
       "      <th>4</th>\n",
       "    </tr>\n",
       "  </thead>\n",
       "  <tbody>\n",
       "    <tr>\n",
       "      <th>Intercept</th>\n",
       "      <td>6.92391</td>\n",
       "      <td>6.95202</td>\n",
       "      <td>6.90835</td>\n",
       "      <td>6.91050</td>\n",
       "      <td>6.91350</td>\n",
       "      <td>6.92851</td>\n",
       "    </tr>\n",
       "    <tr>\n",
       "      <th>LicAge</th>\n",
       "      <td>-0.05790</td>\n",
       "      <td>-0.02513</td>\n",
       "      <td>-0.00775</td>\n",
       "      <td>-0.11555</td>\n",
       "      <td>-0.04535</td>\n",
       "      <td>-0.09699</td>\n",
       "    </tr>\n",
       "    <tr>\n",
       "      <th>Gender</th>\n",
       "      <td>-0.02170</td>\n",
       "      <td>-0.02326</td>\n",
       "      <td>-0.02498</td>\n",
       "      <td>-0.04337</td>\n",
       "      <td>0.00211</td>\n",
       "      <td>-0.02000</td>\n",
       "    </tr>\n",
       "    <tr>\n",
       "      <th>MariStat</th>\n",
       "      <td>0.05603</td>\n",
       "      <td>0.05271</td>\n",
       "      <td>0.08074</td>\n",
       "      <td>0.06448</td>\n",
       "      <td>0.01229</td>\n",
       "      <td>0.06675</td>\n",
       "    </tr>\n",
       "    <tr>\n",
       "      <th>DrivAge</th>\n",
       "      <td>-0.38965</td>\n",
       "      <td>-0.38101</td>\n",
       "      <td>-0.45682</td>\n",
       "      <td>-0.45346</td>\n",
       "      <td>-0.45979</td>\n",
       "      <td>-0.19493</td>\n",
       "    </tr>\n",
       "    <tr>\n",
       "      <th>HasKmLimit</th>\n",
       "      <td>-0.02116</td>\n",
       "      <td>-0.02599</td>\n",
       "      <td>-0.02729</td>\n",
       "      <td>-0.01681</td>\n",
       "      <td>-0.01362</td>\n",
       "      <td>-0.02028</td>\n",
       "    </tr>\n",
       "    <tr>\n",
       "      <th>BonusMalus</th>\n",
       "      <td>-0.06201</td>\n",
       "      <td>-0.03918</td>\n",
       "      <td>-0.04927</td>\n",
       "      <td>-0.09090</td>\n",
       "      <td>-0.04714</td>\n",
       "      <td>-0.08184</td>\n",
       "    </tr>\n",
       "    <tr>\n",
       "      <th>OutUseNb</th>\n",
       "      <td>0.00378</td>\n",
       "      <td>0.00482</td>\n",
       "      <td>0.01278</td>\n",
       "      <td>0.01064</td>\n",
       "      <td>0.00063</td>\n",
       "      <td>-0.00923</td>\n",
       "    </tr>\n",
       "    <tr>\n",
       "      <th>RiskArea</th>\n",
       "      <td>0.09138</td>\n",
       "      <td>0.09323</td>\n",
       "      <td>0.07495</td>\n",
       "      <td>0.09466</td>\n",
       "      <td>0.10993</td>\n",
       "      <td>0.08336</td>\n",
       "    </tr>\n",
       "    <tr>\n",
       "      <th>VehUsage_Private</th>\n",
       "      <td>0.02011</td>\n",
       "      <td>-0.01025</td>\n",
       "      <td>0.04525</td>\n",
       "      <td>0.03496</td>\n",
       "      <td>0.01155</td>\n",
       "      <td>0.00049</td>\n",
       "    </tr>\n",
       "    <tr>\n",
       "      <th>VehUsage_Private+trip to office</th>\n",
       "      <td>0.00000</td>\n",
       "      <td>0.00666</td>\n",
       "      <td>0.00000</td>\n",
       "      <td>-0.01316</td>\n",
       "      <td>-0.01706</td>\n",
       "      <td>0.00000</td>\n",
       "    </tr>\n",
       "    <tr>\n",
       "      <th>VehUsage_Professional</th>\n",
       "      <td>-0.00067</td>\n",
       "      <td>0.00000</td>\n",
       "      <td>-0.01446</td>\n",
       "      <td>0.00000</td>\n",
       "      <td>0.00000</td>\n",
       "      <td>-0.00739</td>\n",
       "    </tr>\n",
       "    <tr>\n",
       "      <th>VehUsage_Professional run</th>\n",
       "      <td>-0.03915</td>\n",
       "      <td>-0.04887</td>\n",
       "      <td>-0.03761</td>\n",
       "      <td>-0.02690</td>\n",
       "      <td>-0.03846</td>\n",
       "      <td>-0.05162</td>\n",
       "    </tr>\n",
       "    <tr>\n",
       "      <th>SocioCateg_CSP1</th>\n",
       "      <td>-0.00509</td>\n",
       "      <td>-0.01047</td>\n",
       "      <td>0.00492</td>\n",
       "      <td>0.00845</td>\n",
       "      <td>-0.02043</td>\n",
       "      <td>-0.00740</td>\n",
       "    </tr>\n",
       "    <tr>\n",
       "      <th>SocioCateg_CSP2</th>\n",
       "      <td>-0.01832</td>\n",
       "      <td>-0.00426</td>\n",
       "      <td>-0.04283</td>\n",
       "      <td>-0.01231</td>\n",
       "      <td>-0.01402</td>\n",
       "      <td>-0.01984</td>\n",
       "    </tr>\n",
       "    <tr>\n",
       "      <th>SocioCateg_CSP3</th>\n",
       "      <td>0.00849</td>\n",
       "      <td>-0.00196</td>\n",
       "      <td>0.01192</td>\n",
       "      <td>0.01677</td>\n",
       "      <td>0.01539</td>\n",
       "      <td>0.00075</td>\n",
       "    </tr>\n",
       "    <tr>\n",
       "      <th>SocioCateg_CSP4</th>\n",
       "      <td>-0.02633</td>\n",
       "      <td>-0.04153</td>\n",
       "      <td>-0.00662</td>\n",
       "      <td>-0.00984</td>\n",
       "      <td>-0.02536</td>\n",
       "      <td>-0.04527</td>\n",
       "    </tr>\n",
       "    <tr>\n",
       "      <th>SocioCateg_CSP5</th>\n",
       "      <td>0.01678</td>\n",
       "      <td>0.00000</td>\n",
       "      <td>0.03317</td>\n",
       "      <td>0.04719</td>\n",
       "      <td>0.00335</td>\n",
       "      <td>0.00000</td>\n",
       "    </tr>\n",
       "    <tr>\n",
       "      <th>SocioCateg_CSP6</th>\n",
       "      <td>0.00000</td>\n",
       "      <td>0.00183</td>\n",
       "      <td>-0.00390</td>\n",
       "      <td>0.00000</td>\n",
       "      <td>0.00000</td>\n",
       "      <td>0.00321</td>\n",
       "    </tr>\n",
       "    <tr>\n",
       "      <th>SocioCateg_CSP7</th>\n",
       "      <td>-0.01497</td>\n",
       "      <td>-0.01658</td>\n",
       "      <td>-0.01637</td>\n",
       "      <td>-0.01767</td>\n",
       "      <td>0.00000</td>\n",
       "      <td>-0.01612</td>\n",
       "    </tr>\n",
       "    <tr>\n",
       "      <th>DrivAgeSq</th>\n",
       "      <td>0.43550</td>\n",
       "      <td>0.41915</td>\n",
       "      <td>0.47241</td>\n",
       "      <td>0.52856</td>\n",
       "      <td>0.49690</td>\n",
       "      <td>0.25582</td>\n",
       "    </tr>\n",
       "  </tbody>\n",
       "</table>\n",
       "</div>"
      ],
      "text/plain": [
       "                                 overall        0        1        2        3  \\\n",
       "Intercept                        6.92391  6.95202  6.90835  6.91050  6.91350   \n",
       "LicAge                          -0.05790 -0.02513 -0.00775 -0.11555 -0.04535   \n",
       "Gender                          -0.02170 -0.02326 -0.02498 -0.04337  0.00211   \n",
       "MariStat                         0.05603  0.05271  0.08074  0.06448  0.01229   \n",
       "DrivAge                         -0.38965 -0.38101 -0.45682 -0.45346 -0.45979   \n",
       "HasKmLimit                      -0.02116 -0.02599 -0.02729 -0.01681 -0.01362   \n",
       "BonusMalus                      -0.06201 -0.03918 -0.04927 -0.09090 -0.04714   \n",
       "OutUseNb                         0.00378  0.00482  0.01278  0.01064  0.00063   \n",
       "RiskArea                         0.09138  0.09323  0.07495  0.09466  0.10993   \n",
       "VehUsage_Private                 0.02011 -0.01025  0.04525  0.03496  0.01155   \n",
       "VehUsage_Private+trip to office  0.00000  0.00666  0.00000 -0.01316 -0.01706   \n",
       "VehUsage_Professional           -0.00067  0.00000 -0.01446  0.00000  0.00000   \n",
       "VehUsage_Professional run       -0.03915 -0.04887 -0.03761 -0.02690 -0.03846   \n",
       "SocioCateg_CSP1                 -0.00509 -0.01047  0.00492  0.00845 -0.02043   \n",
       "SocioCateg_CSP2                 -0.01832 -0.00426 -0.04283 -0.01231 -0.01402   \n",
       "SocioCateg_CSP3                  0.00849 -0.00196  0.01192  0.01677  0.01539   \n",
       "SocioCateg_CSP4                 -0.02633 -0.04153 -0.00662 -0.00984 -0.02536   \n",
       "SocioCateg_CSP5                  0.01678  0.00000  0.03317  0.04719  0.00335   \n",
       "SocioCateg_CSP6                  0.00000  0.00183 -0.00390  0.00000  0.00000   \n",
       "SocioCateg_CSP7                 -0.01497 -0.01658 -0.01637 -0.01767  0.00000   \n",
       "DrivAgeSq                        0.43550  0.41915  0.47241  0.52856  0.49690   \n",
       "\n",
       "                                       4  \n",
       "Intercept                        6.92851  \n",
       "LicAge                          -0.09699  \n",
       "Gender                          -0.02000  \n",
       "MariStat                         0.06675  \n",
       "DrivAge                         -0.19493  \n",
       "HasKmLimit                      -0.02028  \n",
       "BonusMalus                      -0.08184  \n",
       "OutUseNb                        -0.00923  \n",
       "RiskArea                         0.08336  \n",
       "VehUsage_Private                 0.00049  \n",
       "VehUsage_Private+trip to office  0.00000  \n",
       "VehUsage_Professional           -0.00739  \n",
       "VehUsage_Professional run       -0.05162  \n",
       "SocioCateg_CSP1                 -0.00740  \n",
       "SocioCateg_CSP2                 -0.01984  \n",
       "SocioCateg_CSP3                  0.00075  \n",
       "SocioCateg_CSP4                 -0.04527  \n",
       "SocioCateg_CSP5                  0.00000  \n",
       "SocioCateg_CSP6                  0.00321  \n",
       "SocioCateg_CSP7                 -0.01612  \n",
       "DrivAgeSq                        0.25582  "
      ]
     },
     "execution_count": 42,
     "metadata": {},
     "output_type": "execute_result"
    }
   ],
   "source": [
    "# Таблица нормированных коэффициентов по всем данным и на кросс-валидации\n",
    "\n",
    "pmodels = {}\n",
    "pmodels['overall'] = glm_gamma.coef_norm()\n",
    "for x in range(len(glm_gamma.cross_validation_models())):\n",
    "    pmodels[x] = glm_gamma.cross_validation_models()[x].coef_norm()\n",
    "pd.DataFrame.from_dict(pmodels).round(5)"
   ]
  },
  {
   "cell_type": "code",
   "execution_count": 43,
   "metadata": {
    "colab": {
     "base_uri": "https://localhost:8080/",
     "height": 68
    },
    "colab_type": "code",
    "id": "CoBse4X5_no7",
    "outputId": "1a926a97-4034-47f5-ea0a-3d0a7440456c"
   },
   "outputs": [
    {
     "name": "stdout",
     "output_type": "stream",
     "text": [
      "glm prediction progress: |████████████████████████████████████████████████| 100%\n",
      "glm prediction progress: |████████████████████████████████████████████████| 100%\n",
      "glm prediction progress: |████████████████████████████████████████████████| 100%\n"
     ]
    }
   ],
   "source": [
    "# Построение прогнозных значений для обучающей, валидационной и тестовой выборок\n",
    "\n",
    "ac_train_pred = glm_gamma.predict(h2o_train_ac).as_data_frame()\n",
    "ac_valid_pred = glm_gamma.predict(h2o_valid_ac).as_data_frame()\n",
    "ac_test_pred = glm_gamma.predict(h2o_test_ac).as_data_frame()"
   ]
  },
  {
   "cell_type": "code",
   "execution_count": 44,
   "metadata": {
    "colab": {},
    "colab_type": "code",
    "id": "3Brr0O0zUKKW"
   },
   "outputs": [],
   "source": [
    "# Сохранение обученной модели\n",
    "\n",
    "model_glm_gamma = h2o.save_model(model=glm_gamma, path=\"/content/drive/My Drive/Colab Notebooks/\", force=True)"
   ]
  },
  {
   "cell_type": "code",
   "execution_count": 45,
   "metadata": {
    "colab": {
     "base_uri": "https://localhost:8080/",
     "height": 34
    },
    "colab_type": "code",
    "id": "VouX3Z7FUKIN",
    "outputId": "44e97810-21c7-420f-93a9-980e240422ad"
   },
   "outputs": [
    {
     "data": {
      "text/plain": [
       "'C:\\\\content\\\\drive\\\\My Drive\\\\Colab Notebooks\\\\GLM_model_python_1588251408301_2'"
      ]
     },
     "execution_count": 45,
     "metadata": {},
     "output_type": "execute_result"
    }
   ],
   "source": [
    "model_glm_gamma"
   ]
  },
  {
   "cell_type": "markdown",
   "metadata": {
    "colab_type": "text",
    "id": "A84l-r2aIxfK"
   },
   "source": [
    "### Использование GLM моделей"
   ]
  },
  {
   "cell_type": "code",
   "execution_count": 46,
   "metadata": {
    "colab": {
     "base_uri": "https://localhost:8080/",
     "height": 34
    },
    "colab_type": "code",
    "id": "-bkMpTD6Gcra",
    "outputId": "858d027e-9320-48ef-e1fd-a2c33102ee00"
   },
   "outputs": [
    {
     "name": "stdout",
     "output_type": "stream",
     "text": [
      "Parse progress: |█████████████████████████████████████████████████████████| 100%\n"
     ]
    }
   ],
   "source": [
    "h2o_df = h2o.H2OFrame(df)"
   ]
  },
  {
   "cell_type": "code",
   "execution_count": 47,
   "metadata": {
    "colab": {
     "base_uri": "https://localhost:8080/",
     "height": 51
    },
    "colab_type": "code",
    "id": "meqzcQNpI6JJ",
    "outputId": "aafc2f3f-2731-4b9e-c62a-3dd41adc492d"
   },
   "outputs": [
    {
     "name": "stdout",
     "output_type": "stream",
     "text": [
      "glm prediction progress: |████████████████████████████████████████████████| 100%\n",
      "glm prediction progress: |████████████████████████████████████████████████| 100%\n"
     ]
    }
   ],
   "source": [
    "df['CountPredicted'] = glm_poisson.predict(h2o_df).as_data_frame()\n",
    "df['AvgClaimPredicted'] = glm_gamma.predict(h2o_df).as_data_frame()"
   ]
  },
  {
   "cell_type": "code",
   "execution_count": 48,
   "metadata": {
    "colab": {
     "base_uri": "https://localhost:8080/",
     "height": 204
    },
    "colab_type": "code",
    "id": "gjK52WywJdHk",
    "outputId": "33f9f048-8016-42ec-daa8-befb184882f6"
   },
   "outputs": [
    {
     "data": {
      "text/html": [
       "<div>\n",
       "<style scoped>\n",
       "    .dataframe tbody tr th:only-of-type {\n",
       "        vertical-align: middle;\n",
       "    }\n",
       "\n",
       "    .dataframe tbody tr th {\n",
       "        vertical-align: top;\n",
       "    }\n",
       "\n",
       "    .dataframe thead th {\n",
       "        text-align: right;\n",
       "    }\n",
       "</style>\n",
       "<table border=\"1\" class=\"dataframe\">\n",
       "  <thead>\n",
       "    <tr style=\"text-align: right;\">\n",
       "      <th></th>\n",
       "      <th>CountPredicted</th>\n",
       "      <th>AvgClaimPredicted</th>\n",
       "      <th>BurningCost</th>\n",
       "    </tr>\n",
       "  </thead>\n",
       "  <tbody>\n",
       "    <tr>\n",
       "      <th>0</th>\n",
       "      <td>0.365203</td>\n",
       "      <td>1040.884165</td>\n",
       "      <td>380.134137</td>\n",
       "    </tr>\n",
       "    <tr>\n",
       "      <th>1</th>\n",
       "      <td>0.365274</td>\n",
       "      <td>1040.508282</td>\n",
       "      <td>380.070571</td>\n",
       "    </tr>\n",
       "    <tr>\n",
       "      <th>2</th>\n",
       "      <td>0.321158</td>\n",
       "      <td>1000.561543</td>\n",
       "      <td>321.338065</td>\n",
       "    </tr>\n",
       "    <tr>\n",
       "      <th>3</th>\n",
       "      <td>0.264449</td>\n",
       "      <td>959.301700</td>\n",
       "      <td>253.686352</td>\n",
       "    </tr>\n",
       "    <tr>\n",
       "      <th>4</th>\n",
       "      <td>0.233909</td>\n",
       "      <td>976.884554</td>\n",
       "      <td>228.501760</td>\n",
       "    </tr>\n",
       "  </tbody>\n",
       "</table>\n",
       "</div>"
      ],
      "text/plain": [
       "   CountPredicted  AvgClaimPredicted  BurningCost\n",
       "0        0.365203        1040.884165   380.134137\n",
       "1        0.365274        1040.508282   380.070571\n",
       "2        0.321158        1000.561543   321.338065\n",
       "3        0.264449         959.301700   253.686352\n",
       "4        0.233909         976.884554   228.501760"
      ]
     },
     "execution_count": 48,
     "metadata": {},
     "output_type": "execute_result"
    }
   ],
   "source": [
    "df['BurningCost'] = df.CountPredicted * df.AvgClaimPredicted\n",
    "df[['CountPredicted', 'AvgClaimPredicted', 'BurningCost']].head()"
   ]
  },
  {
   "cell_type": "markdown",
   "metadata": {
    "colab_type": "text",
    "id": "Xljx8j0-_jXR"
   },
   "source": [
    "## * Домашнее задание: GLM для прогнозирования наступления страхового случая"
   ]
  },
  {
   "cell_type": "code",
   "execution_count": 49,
   "metadata": {},
   "outputs": [
    {
     "data": {
      "text/html": [
       "<div>\n",
       "<style scoped>\n",
       "    .dataframe tbody tr th:only-of-type {\n",
       "        vertical-align: middle;\n",
       "    }\n",
       "\n",
       "    .dataframe tbody tr th {\n",
       "        vertical-align: top;\n",
       "    }\n",
       "\n",
       "    .dataframe thead th {\n",
       "        text-align: right;\n",
       "    }\n",
       "</style>\n",
       "<table border=\"1\" class=\"dataframe\">\n",
       "  <thead>\n",
       "    <tr style=\"text-align: right;\">\n",
       "      <th></th>\n",
       "      <th>Exposure</th>\n",
       "      <th>LicAge</th>\n",
       "      <th>Gender</th>\n",
       "      <th>MariStat</th>\n",
       "      <th>DrivAge</th>\n",
       "      <th>HasKmLimit</th>\n",
       "      <th>BonusMalus</th>\n",
       "      <th>ClaimAmount</th>\n",
       "      <th>ClaimInd</th>\n",
       "      <th>OutUseNb</th>\n",
       "      <th>...</th>\n",
       "      <th>SocioCateg_CSP3</th>\n",
       "      <th>SocioCateg_CSP4</th>\n",
       "      <th>SocioCateg_CSP5</th>\n",
       "      <th>SocioCateg_CSP6</th>\n",
       "      <th>SocioCateg_CSP7</th>\n",
       "      <th>DrivAgeSq</th>\n",
       "      <th>ClaimsCount</th>\n",
       "      <th>CountPredicted</th>\n",
       "      <th>AvgClaimPredicted</th>\n",
       "      <th>BurningCost</th>\n",
       "    </tr>\n",
       "  </thead>\n",
       "  <tbody>\n",
       "    <tr>\n",
       "      <th>0</th>\n",
       "      <td>0.083</td>\n",
       "      <td>332</td>\n",
       "      <td>0</td>\n",
       "      <td>0</td>\n",
       "      <td>46</td>\n",
       "      <td>0</td>\n",
       "      <td>50</td>\n",
       "      <td>0.0</td>\n",
       "      <td>0</td>\n",
       "      <td>0.0</td>\n",
       "      <td>...</td>\n",
       "      <td>0</td>\n",
       "      <td>0</td>\n",
       "      <td>1</td>\n",
       "      <td>0</td>\n",
       "      <td>0</td>\n",
       "      <td>2116</td>\n",
       "      <td>0.0</td>\n",
       "      <td>0.365203</td>\n",
       "      <td>1040.884165</td>\n",
       "      <td>380.134137</td>\n",
       "    </tr>\n",
       "    <tr>\n",
       "      <th>1</th>\n",
       "      <td>0.916</td>\n",
       "      <td>333</td>\n",
       "      <td>0</td>\n",
       "      <td>0</td>\n",
       "      <td>46</td>\n",
       "      <td>0</td>\n",
       "      <td>50</td>\n",
       "      <td>0.0</td>\n",
       "      <td>0</td>\n",
       "      <td>0.0</td>\n",
       "      <td>...</td>\n",
       "      <td>0</td>\n",
       "      <td>0</td>\n",
       "      <td>1</td>\n",
       "      <td>0</td>\n",
       "      <td>0</td>\n",
       "      <td>2116</td>\n",
       "      <td>0.0</td>\n",
       "      <td>0.365274</td>\n",
       "      <td>1040.508282</td>\n",
       "      <td>380.070571</td>\n",
       "    </tr>\n",
       "    <tr>\n",
       "      <th>2</th>\n",
       "      <td>0.550</td>\n",
       "      <td>173</td>\n",
       "      <td>0</td>\n",
       "      <td>0</td>\n",
       "      <td>32</td>\n",
       "      <td>0</td>\n",
       "      <td>68</td>\n",
       "      <td>0.0</td>\n",
       "      <td>0</td>\n",
       "      <td>0.0</td>\n",
       "      <td>...</td>\n",
       "      <td>0</td>\n",
       "      <td>0</td>\n",
       "      <td>1</td>\n",
       "      <td>0</td>\n",
       "      <td>0</td>\n",
       "      <td>1024</td>\n",
       "      <td>0.0</td>\n",
       "      <td>0.321158</td>\n",
       "      <td>1000.561543</td>\n",
       "      <td>321.338065</td>\n",
       "    </tr>\n",
       "    <tr>\n",
       "      <th>3</th>\n",
       "      <td>0.089</td>\n",
       "      <td>364</td>\n",
       "      <td>1</td>\n",
       "      <td>0</td>\n",
       "      <td>52</td>\n",
       "      <td>0</td>\n",
       "      <td>50</td>\n",
       "      <td>0.0</td>\n",
       "      <td>0</td>\n",
       "      <td>0.0</td>\n",
       "      <td>...</td>\n",
       "      <td>0</td>\n",
       "      <td>0</td>\n",
       "      <td>1</td>\n",
       "      <td>0</td>\n",
       "      <td>0</td>\n",
       "      <td>2704</td>\n",
       "      <td>0.0</td>\n",
       "      <td>0.264449</td>\n",
       "      <td>959.301700</td>\n",
       "      <td>253.686352</td>\n",
       "    </tr>\n",
       "    <tr>\n",
       "      <th>4</th>\n",
       "      <td>0.233</td>\n",
       "      <td>426</td>\n",
       "      <td>0</td>\n",
       "      <td>0</td>\n",
       "      <td>57</td>\n",
       "      <td>0</td>\n",
       "      <td>50</td>\n",
       "      <td>0.0</td>\n",
       "      <td>0</td>\n",
       "      <td>0.0</td>\n",
       "      <td>...</td>\n",
       "      <td>0</td>\n",
       "      <td>0</td>\n",
       "      <td>0</td>\n",
       "      <td>1</td>\n",
       "      <td>0</td>\n",
       "      <td>3249</td>\n",
       "      <td>0.0</td>\n",
       "      <td>0.233909</td>\n",
       "      <td>976.884554</td>\n",
       "      <td>228.501760</td>\n",
       "    </tr>\n",
       "  </tbody>\n",
       "</table>\n",
       "<p>5 rows × 27 columns</p>\n",
       "</div>"
      ],
      "text/plain": [
       "   Exposure  LicAge  Gender  MariStat  DrivAge  HasKmLimit  BonusMalus  \\\n",
       "0     0.083     332       0         0       46           0          50   \n",
       "1     0.916     333       0         0       46           0          50   \n",
       "2     0.550     173       0         0       32           0          68   \n",
       "3     0.089     364       1         0       52           0          50   \n",
       "4     0.233     426       0         0       57           0          50   \n",
       "\n",
       "   ClaimAmount  ClaimInd  OutUseNb  ...  SocioCateg_CSP3  SocioCateg_CSP4  \\\n",
       "0          0.0         0       0.0  ...                0                0   \n",
       "1          0.0         0       0.0  ...                0                0   \n",
       "2          0.0         0       0.0  ...                0                0   \n",
       "3          0.0         0       0.0  ...                0                0   \n",
       "4          0.0         0       0.0  ...                0                0   \n",
       "\n",
       "   SocioCateg_CSP5  SocioCateg_CSP6  SocioCateg_CSP7  DrivAgeSq  ClaimsCount  \\\n",
       "0                1                0                0       2116          0.0   \n",
       "1                1                0                0       2116          0.0   \n",
       "2                1                0                0       1024          0.0   \n",
       "3                1                0                0       2704          0.0   \n",
       "4                0                1                0       3249          0.0   \n",
       "\n",
       "   CountPredicted  AvgClaimPredicted  BurningCost  \n",
       "0        0.365203        1040.884165   380.134137  \n",
       "1        0.365274        1040.508282   380.070571  \n",
       "2        0.321158        1000.561543   321.338065  \n",
       "3        0.264449         959.301700   253.686352  \n",
       "4        0.233909         976.884554   228.501760  \n",
       "\n",
       "[5 rows x 27 columns]"
      ]
     },
     "execution_count": 49,
     "metadata": {},
     "output_type": "execute_result"
    }
   ],
   "source": [
    "df.head()"
   ]
  },
  {
   "cell_type": "code",
   "execution_count": 50,
   "metadata": {
    "colab": {},
    "colab_type": "code",
    "id": "EgD9hvYAIury"
   },
   "outputs": [],
   "source": [
    "# Разбиение датасета на train/val/test\n",
    "\n",
    "x_train_ind, x_test_ind, y_train_ind, y_test_ind = train_test_split(df.drop(['ClaimInd', 'ClaimAmount', 'ClaimsCount', 'CountPredicted', 'AvgClaimPredicted', 'BurningCost'], axis=1), df.ClaimInd, test_size=0.3, random_state=1)\n",
    "x_valid_ind, x_test_ind, y_valid_ind, y_test_ind = train_test_split(x_test_ind, y_test_ind, test_size=0.5, random_state=1)"
   ]
  },
  {
   "cell_type": "code",
   "execution_count": 51,
   "metadata": {
    "colab": {
     "base_uri": "https://localhost:8080/",
     "height": 34
    },
    "colab_type": "code",
    "id": "Bt_i4clofGFR",
    "outputId": "ef53fd1b-f5e2-448c-d9be-00076fd31a0c"
   },
   "outputs": [
    {
     "name": "stdout",
     "output_type": "stream",
     "text": [
      "Parse progress: |█████████████████████████████████████████████████████████| 100%\n",
      "Parse progress: |█████████████████████████████████████████████████████████| 100%\n",
      "Parse progress: |█████████████████████████████████████████████████████████| 100%\n"
     ]
    }
   ],
   "source": [
    "# Преобразование в H2O-Frame\n",
    "\n",
    "h2o_train_ind = h2o.H2OFrame(pd.concat([x_train_ind, y_train_ind], axis=1))\n",
    "h2o_valid_ind = h2o.H2OFrame(pd.concat([x_valid_ind, y_valid_ind], axis=1))\n",
    "h2o_test_ind = h2o.H2OFrame(pd.concat([x_test_ind, y_test_ind], axis=1))"
   ]
  },
  {
   "cell_type": "code",
   "execution_count": 52,
   "metadata": {
    "colab": {
     "base_uri": "https://localhost:8080/",
     "height": 34
    },
    "colab_type": "code",
    "id": "5ETBVckIjIRC",
    "outputId": "1d3be74e-5e44-4466-d358-e79b0ed31a48"
   },
   "outputs": [
    {
     "data": {
      "text/html": [
       "<table>\n",
       "<thead>\n",
       "<tr><th style=\"text-align: right;\">  ClaimInd</th></tr>\n",
       "</thead>\n",
       "<tbody>\n",
       "<tr><td style=\"text-align: right;\">         0</td></tr>\n",
       "<tr><td style=\"text-align: right;\">         0</td></tr>\n",
       "<tr><td style=\"text-align: right;\">         0</td></tr>\n",
       "<tr><td style=\"text-align: right;\">         0</td></tr>\n",
       "<tr><td style=\"text-align: right;\">         0</td></tr>\n",
       "<tr><td style=\"text-align: right;\">         0</td></tr>\n",
       "<tr><td style=\"text-align: right;\">         0</td></tr>\n",
       "<tr><td style=\"text-align: right;\">         0</td></tr>\n",
       "<tr><td style=\"text-align: right;\">         0</td></tr>\n",
       "<tr><td style=\"text-align: right;\">         0</td></tr>\n",
       "</tbody>\n",
       "</table>"
      ]
     },
     "metadata": {},
     "output_type": "display_data"
    },
    {
     "data": {
      "text/plain": []
     },
     "execution_count": 52,
     "metadata": {},
     "output_type": "execute_result"
    }
   ],
   "source": [
    "# Преобразуем целевую переменную ClaimInd в категориальную при помощи метода asfactor во всех наборах данных\n",
    "\n",
    "h2o_train_ind['ClaimInd'].asfactor()\n",
    "h2o_valid_ind['ClaimInd'].asfactor()\n",
    "h2o_test_ind['ClaimInd'].asfactor()"
   ]
  },
  {
   "cell_type": "code",
   "execution_count": 53,
   "metadata": {
    "colab": {
     "base_uri": "https://localhost:8080/",
     "height": 34
    },
    "colab_type": "code",
    "id": "xoT7OG9ljwKY",
    "outputId": "b4a44b3d-a893-4608-90dc-7bff2244498b"
   },
   "outputs": [
    {
     "name": "stdout",
     "output_type": "stream",
     "text": [
      "glm Model Build progress: |███████████████████████████████████████████████| 100%\n"
     ]
    }
   ],
   "source": [
    "# Инициализируем и обучим GLM модель c кросс-валидацией\n",
    "\n",
    "glm_poisson = H2OGeneralizedLinearEstimator(family = \"poisson\", link = \"Log\", nfolds=5)\n",
    "glm_poisson.train(y=\"ClaimInd\", x = h2o_train_c.names[1:-1], training_frame = h2o_train_ind, validation_frame = h2o_valid_ind, weights_column = \"Exposure\")"
   ]
  },
  {
   "cell_type": "code",
   "execution_count": 54,
   "metadata": {
    "colab": {
     "base_uri": "https://localhost:8080/",
     "height": 34
    },
    "colab_type": "code",
    "id": "WXbmbcSDoOXs",
    "outputId": "563f2917-855d-42d8-bc63-4fb823a43c46"
   },
   "outputs": [
    {
     "name": "stdout",
     "output_type": "stream",
     "text": [
      "\n",
      "GLM Model: summary\n"
     ]
    },
    {
     "data": {
      "text/html": [
       "<div>\n",
       "<style scoped>\n",
       "    .dataframe tbody tr th:only-of-type {\n",
       "        vertical-align: middle;\n",
       "    }\n",
       "\n",
       "    .dataframe tbody tr th {\n",
       "        vertical-align: top;\n",
       "    }\n",
       "\n",
       "    .dataframe thead th {\n",
       "        text-align: right;\n",
       "    }\n",
       "</style>\n",
       "<table border=\"1\" class=\"dataframe\">\n",
       "  <thead>\n",
       "    <tr style=\"text-align: right;\">\n",
       "      <th></th>\n",
       "      <th></th>\n",
       "      <th>family</th>\n",
       "      <th>link</th>\n",
       "      <th>regularization</th>\n",
       "      <th>number_of_predictors_total</th>\n",
       "      <th>number_of_active_predictors</th>\n",
       "      <th>number_of_iterations</th>\n",
       "      <th>training_frame</th>\n",
       "    </tr>\n",
       "  </thead>\n",
       "  <tbody>\n",
       "    <tr>\n",
       "      <th>0</th>\n",
       "      <td></td>\n",
       "      <td>poisson</td>\n",
       "      <td>log</td>\n",
       "      <td>Elastic Net (alpha = 0.5, lambda = 3.295E-5 )</td>\n",
       "      <td>20</td>\n",
       "      <td>20</td>\n",
       "      <td>3</td>\n",
       "      <td>Key_Frame__upload_aa4e024f254ff5fafe3554de017f4ba2.hex</td>\n",
       "    </tr>\n",
       "  </tbody>\n",
       "</table>\n",
       "</div>"
      ],
      "text/plain": [
       "      family link                                 regularization  \\\n",
       "0    poisson  log  Elastic Net (alpha = 0.5, lambda = 3.295E-5 )   \n",
       "\n",
       "   number_of_predictors_total number_of_active_predictors  \\\n",
       "0                          20                          20   \n",
       "\n",
       "   number_of_iterations  \\\n",
       "0                     3   \n",
       "\n",
       "                                           training_frame  \n",
       "0  Key_Frame__upload_aa4e024f254ff5fafe3554de017f4ba2.hex  "
      ]
     },
     "metadata": {},
     "output_type": "display_data"
    },
    {
     "data": {
      "text/plain": []
     },
     "execution_count": 54,
     "metadata": {},
     "output_type": "execute_result"
    }
   ],
   "source": [
    "# Параметры модели: распределение, функция связи, гиперпараметры регуляризации, количество использованных объясняющих переменных\n",
    "\n",
    "glm_poisson.summary()"
   ]
  },
  {
   "cell_type": "code",
   "execution_count": 55,
   "metadata": {
    "colab": {
     "base_uri": "https://localhost:8080/",
     "height": 34
    },
    "colab_type": "code",
    "id": "mUvoWpAkoRir",
    "outputId": "462edf0f-6bfb-4ad6-a44c-ca05ac90bdf9"
   },
   "outputs": [
    {
     "data": {
      "text/html": [
       "<div>\n",
       "<style scoped>\n",
       "    .dataframe tbody tr th:only-of-type {\n",
       "        vertical-align: middle;\n",
       "    }\n",
       "\n",
       "    .dataframe tbody tr th {\n",
       "        vertical-align: top;\n",
       "    }\n",
       "\n",
       "    .dataframe thead th {\n",
       "        text-align: right;\n",
       "    }\n",
       "</style>\n",
       "<table border=\"1\" class=\"dataframe\">\n",
       "  <thead>\n",
       "    <tr style=\"text-align: right;\">\n",
       "      <th></th>\n",
       "      <th></th>\n",
       "      <th>mean</th>\n",
       "      <th>sd</th>\n",
       "      <th>cv_1_valid</th>\n",
       "      <th>cv_2_valid</th>\n",
       "      <th>cv_3_valid</th>\n",
       "      <th>cv_4_valid</th>\n",
       "      <th>cv_5_valid</th>\n",
       "    </tr>\n",
       "  </thead>\n",
       "  <tbody>\n",
       "    <tr>\n",
       "      <th>0</th>\n",
       "      <td>mae</td>\n",
       "      <td>0.22225346</td>\n",
       "      <td>0.00124108</td>\n",
       "      <td>0.22225128</td>\n",
       "      <td>0.22182442</td>\n",
       "      <td>0.22279382</td>\n",
       "      <td>0.22388399</td>\n",
       "      <td>0.22051379</td>\n",
       "    </tr>\n",
       "    <tr>\n",
       "      <th>1</th>\n",
       "      <td>mean_residual_deviance</td>\n",
       "      <td>0.52145964</td>\n",
       "      <td>0.0045234407</td>\n",
       "      <td>0.52362716</td>\n",
       "      <td>0.51951426</td>\n",
       "      <td>0.52186054</td>\n",
       "      <td>0.52718997</td>\n",
       "      <td>0.5151062</td>\n",
       "    </tr>\n",
       "    <tr>\n",
       "      <th>2</th>\n",
       "      <td>mse</td>\n",
       "      <td>0.11118992</td>\n",
       "      <td>0.0015946563</td>\n",
       "      <td>0.11172294</td>\n",
       "      <td>0.110409975</td>\n",
       "      <td>0.1116615</td>\n",
       "      <td>0.11320263</td>\n",
       "      <td>0.10895253</td>\n",
       "    </tr>\n",
       "    <tr>\n",
       "      <th>3</th>\n",
       "      <td>null_deviance</td>\n",
       "      <td>3758.0095</td>\n",
       "      <td>35.845463</td>\n",
       "      <td>3787.3796</td>\n",
       "      <td>3742.0906</td>\n",
       "      <td>3782.7017</td>\n",
       "      <td>3775.5874</td>\n",
       "      <td>3702.288</td>\n",
       "    </tr>\n",
       "    <tr>\n",
       "      <th>4</th>\n",
       "      <td>r2</td>\n",
       "      <td>0.006083397</td>\n",
       "      <td>0.0012705876</td>\n",
       "      <td>0.004999097</td>\n",
       "      <td>0.0050295433</td>\n",
       "      <td>0.008122199</td>\n",
       "      <td>0.0060637696</td>\n",
       "      <td>0.0062023774</td>\n",
       "    </tr>\n",
       "    <tr>\n",
       "      <th>5</th>\n",
       "      <td>residual_deviance</td>\n",
       "      <td>3718.3938</td>\n",
       "      <td>35.63941</td>\n",
       "      <td>3754.8623</td>\n",
       "      <td>3706.9353</td>\n",
       "      <td>3731.7043</td>\n",
       "      <td>3736.0303</td>\n",
       "      <td>3662.4365</td>\n",
       "    </tr>\n",
       "    <tr>\n",
       "      <th>6</th>\n",
       "      <td>rmse</td>\n",
       "      <td>0.33344465</td>\n",
       "      <td>0.0023929742</td>\n",
       "      <td>0.33424982</td>\n",
       "      <td>0.33227995</td>\n",
       "      <td>0.3341579</td>\n",
       "      <td>0.33645597</td>\n",
       "      <td>0.3300796</td>\n",
       "    </tr>\n",
       "    <tr>\n",
       "      <th>7</th>\n",
       "      <td>rmsle</td>\n",
       "      <td>0.2333488</td>\n",
       "      <td>0.0013762992</td>\n",
       "      <td>0.23380731</td>\n",
       "      <td>0.23276049</td>\n",
       "      <td>0.23367988</td>\n",
       "      <td>0.23510432</td>\n",
       "      <td>0.23139203</td>\n",
       "    </tr>\n",
       "  </tbody>\n",
       "</table>\n",
       "</div>"
      ],
      "text/plain": [
       "                                  mean            sd   cv_1_valid  \\\n",
       "0                     mae   0.22225346    0.00124108   0.22225128   \n",
       "1  mean_residual_deviance   0.52145964  0.0045234407   0.52362716   \n",
       "2                     mse   0.11118992  0.0015946563   0.11172294   \n",
       "3           null_deviance    3758.0095     35.845463    3787.3796   \n",
       "4                      r2  0.006083397  0.0012705876  0.004999097   \n",
       "5       residual_deviance    3718.3938      35.63941    3754.8623   \n",
       "6                    rmse   0.33344465  0.0023929742   0.33424982   \n",
       "7                   rmsle    0.2333488  0.0013762992   0.23380731   \n",
       "\n",
       "     cv_2_valid   cv_3_valid    cv_4_valid    cv_5_valid  \n",
       "0    0.22182442   0.22279382    0.22388399    0.22051379  \n",
       "1    0.51951426   0.52186054    0.52718997     0.5151062  \n",
       "2   0.110409975    0.1116615    0.11320263    0.10895253  \n",
       "3     3742.0906    3782.7017     3775.5874      3702.288  \n",
       "4  0.0050295433  0.008122199  0.0060637696  0.0062023774  \n",
       "5     3706.9353    3731.7043     3736.0303     3662.4365  \n",
       "6    0.33227995    0.3341579    0.33645597     0.3300796  \n",
       "7    0.23276049   0.23367988    0.23510432    0.23139203  "
      ]
     },
     "execution_count": 55,
     "metadata": {},
     "output_type": "execute_result"
    }
   ],
   "source": [
    "# Метрики качества модели - по всем данным и на кросс-валидации\n",
    "\n",
    "glm_poisson.cross_validation_metrics_summary().as_data_frame()"
   ]
  },
  {
   "cell_type": "code",
   "execution_count": 56,
   "metadata": {
    "colab": {
     "base_uri": "https://localhost:8080/",
     "height": 34
    },
    "colab_type": "code",
    "id": "D8USRdSmoYy_",
    "outputId": "e70e1fa6-bbc3-4471-fbc9-8b24bef78271"
   },
   "outputs": [
    {
     "data": {
      "text/html": [
       "<div>\n",
       "<style scoped>\n",
       "    .dataframe tbody tr th:only-of-type {\n",
       "        vertical-align: middle;\n",
       "    }\n",
       "\n",
       "    .dataframe tbody tr th {\n",
       "        vertical-align: top;\n",
       "    }\n",
       "\n",
       "    .dataframe thead th {\n",
       "        text-align: right;\n",
       "    }\n",
       "</style>\n",
       "<table border=\"1\" class=\"dataframe\">\n",
       "  <thead>\n",
       "    <tr style=\"text-align: right;\">\n",
       "      <th></th>\n",
       "      <th>names</th>\n",
       "      <th>coefficients</th>\n",
       "      <th>standardized_coefficients</th>\n",
       "    </tr>\n",
       "  </thead>\n",
       "  <tbody>\n",
       "    <tr>\n",
       "      <th>0</th>\n",
       "      <td>Intercept</td>\n",
       "      <td>-2.271913</td>\n",
       "      <td>-2.077447</td>\n",
       "    </tr>\n",
       "    <tr>\n",
       "      <th>1</th>\n",
       "      <td>LicAge</td>\n",
       "      <td>-0.000158</td>\n",
       "      <td>-0.025227</td>\n",
       "    </tr>\n",
       "    <tr>\n",
       "      <th>2</th>\n",
       "      <td>Gender</td>\n",
       "      <td>0.013522</td>\n",
       "      <td>0.006548</td>\n",
       "    </tr>\n",
       "    <tr>\n",
       "      <th>3</th>\n",
       "      <td>MariStat</td>\n",
       "      <td>-0.046118</td>\n",
       "      <td>-0.016491</td>\n",
       "    </tr>\n",
       "    <tr>\n",
       "      <th>4</th>\n",
       "      <td>DrivAge</td>\n",
       "      <td>-0.004404</td>\n",
       "      <td>-0.065912</td>\n",
       "    </tr>\n",
       "    <tr>\n",
       "      <th>5</th>\n",
       "      <td>HasKmLimit</td>\n",
       "      <td>-0.382698</td>\n",
       "      <td>-0.118913</td>\n",
       "    </tr>\n",
       "    <tr>\n",
       "      <th>6</th>\n",
       "      <td>BonusMalus</td>\n",
       "      <td>0.005558</td>\n",
       "      <td>0.083797</td>\n",
       "    </tr>\n",
       "    <tr>\n",
       "      <th>7</th>\n",
       "      <td>OutUseNb</td>\n",
       "      <td>0.058159</td>\n",
       "      <td>0.039018</td>\n",
       "    </tr>\n",
       "    <tr>\n",
       "      <th>8</th>\n",
       "      <td>RiskArea</td>\n",
       "      <td>0.012941</td>\n",
       "      <td>0.028631</td>\n",
       "    </tr>\n",
       "    <tr>\n",
       "      <th>9</th>\n",
       "      <td>VehUsage_Private</td>\n",
       "      <td>-0.118031</td>\n",
       "      <td>-0.055978</td>\n",
       "    </tr>\n",
       "    <tr>\n",
       "      <th>10</th>\n",
       "      <td>VehUsage_Private+trip to office</td>\n",
       "      <td>-0.016433</td>\n",
       "      <td>-0.008215</td>\n",
       "    </tr>\n",
       "    <tr>\n",
       "      <th>11</th>\n",
       "      <td>VehUsage_Professional</td>\n",
       "      <td>0.212151</td>\n",
       "      <td>0.071180</td>\n",
       "    </tr>\n",
       "    <tr>\n",
       "      <th>12</th>\n",
       "      <td>VehUsage_Professional run</td>\n",
       "      <td>0.242062</td>\n",
       "      <td>0.032824</td>\n",
       "    </tr>\n",
       "    <tr>\n",
       "      <th>13</th>\n",
       "      <td>SocioCateg_CSP1</td>\n",
       "      <td>-0.088666</td>\n",
       "      <td>-0.013749</td>\n",
       "    </tr>\n",
       "    <tr>\n",
       "      <th>14</th>\n",
       "      <td>SocioCateg_CSP2</td>\n",
       "      <td>-0.152631</td>\n",
       "      <td>-0.025984</td>\n",
       "    </tr>\n",
       "    <tr>\n",
       "      <th>15</th>\n",
       "      <td>SocioCateg_CSP3</td>\n",
       "      <td>0.192160</td>\n",
       "      <td>0.020023</td>\n",
       "    </tr>\n",
       "    <tr>\n",
       "      <th>16</th>\n",
       "      <td>SocioCateg_CSP4</td>\n",
       "      <td>0.043455</td>\n",
       "      <td>0.010986</td>\n",
       "    </tr>\n",
       "    <tr>\n",
       "      <th>17</th>\n",
       "      <td>SocioCateg_CSP5</td>\n",
       "      <td>0.008252</td>\n",
       "      <td>0.003954</td>\n",
       "    </tr>\n",
       "    <tr>\n",
       "      <th>18</th>\n",
       "      <td>SocioCateg_CSP6</td>\n",
       "      <td>0.076342</td>\n",
       "      <td>0.031781</td>\n",
       "    </tr>\n",
       "    <tr>\n",
       "      <th>19</th>\n",
       "      <td>SocioCateg_CSP7</td>\n",
       "      <td>-0.083957</td>\n",
       "      <td>-0.000822</td>\n",
       "    </tr>\n",
       "    <tr>\n",
       "      <th>20</th>\n",
       "      <td>DrivAgeSq</td>\n",
       "      <td>0.000023</td>\n",
       "      <td>0.035324</td>\n",
       "    </tr>\n",
       "  </tbody>\n",
       "</table>\n",
       "</div>"
      ],
      "text/plain": [
       "                              names  coefficients  standardized_coefficients\n",
       "0                         Intercept     -2.271913                  -2.077447\n",
       "1                            LicAge     -0.000158                  -0.025227\n",
       "2                            Gender      0.013522                   0.006548\n",
       "3                          MariStat     -0.046118                  -0.016491\n",
       "4                           DrivAge     -0.004404                  -0.065912\n",
       "5                        HasKmLimit     -0.382698                  -0.118913\n",
       "6                        BonusMalus      0.005558                   0.083797\n",
       "7                          OutUseNb      0.058159                   0.039018\n",
       "8                          RiskArea      0.012941                   0.028631\n",
       "9                  VehUsage_Private     -0.118031                  -0.055978\n",
       "10  VehUsage_Private+trip to office     -0.016433                  -0.008215\n",
       "11            VehUsage_Professional      0.212151                   0.071180\n",
       "12        VehUsage_Professional run      0.242062                   0.032824\n",
       "13                  SocioCateg_CSP1     -0.088666                  -0.013749\n",
       "14                  SocioCateg_CSP2     -0.152631                  -0.025984\n",
       "15                  SocioCateg_CSP3      0.192160                   0.020023\n",
       "16                  SocioCateg_CSP4      0.043455                   0.010986\n",
       "17                  SocioCateg_CSP5      0.008252                   0.003954\n",
       "18                  SocioCateg_CSP6      0.076342                   0.031781\n",
       "19                  SocioCateg_CSP7     -0.083957                  -0.000822\n",
       "20                        DrivAgeSq      0.000023                   0.035324"
      ]
     },
     "execution_count": 56,
     "metadata": {},
     "output_type": "execute_result"
    }
   ],
   "source": [
    "# Таблица коэффициентов модели (в зависимости от модели могут выводиться также стандартная ошибка, z-score и p-value)\n",
    "\n",
    "glm_poisson._model_json['output']['coefficients_table'].as_data_frame()"
   ]
  },
  {
   "cell_type": "code",
   "execution_count": 57,
   "metadata": {
    "colab": {
     "base_uri": "https://localhost:8080/",
     "height": 34
    },
    "colab_type": "code",
    "id": "KZ_XqTchoiYX",
    "outputId": "e80814f6-a6e0-473c-f1f4-46c1071b2e6e"
   },
   "outputs": [
    {
     "data": {
      "text/html": [
       "<div>\n",
       "<style scoped>\n",
       "    .dataframe tbody tr th:only-of-type {\n",
       "        vertical-align: middle;\n",
       "    }\n",
       "\n",
       "    .dataframe tbody tr th {\n",
       "        vertical-align: top;\n",
       "    }\n",
       "\n",
       "    .dataframe thead th {\n",
       "        text-align: right;\n",
       "    }\n",
       "</style>\n",
       "<table border=\"1\" class=\"dataframe\">\n",
       "  <thead>\n",
       "    <tr style=\"text-align: right;\">\n",
       "      <th></th>\n",
       "      <th>overall</th>\n",
       "      <th>0</th>\n",
       "      <th>1</th>\n",
       "      <th>2</th>\n",
       "      <th>3</th>\n",
       "      <th>4</th>\n",
       "    </tr>\n",
       "  </thead>\n",
       "  <tbody>\n",
       "    <tr>\n",
       "      <th>Intercept</th>\n",
       "      <td>-2.07745</td>\n",
       "      <td>-2.07988</td>\n",
       "      <td>-2.07588</td>\n",
       "      <td>-2.07821</td>\n",
       "      <td>-2.08304</td>\n",
       "      <td>-2.07151</td>\n",
       "    </tr>\n",
       "    <tr>\n",
       "      <th>LicAge</th>\n",
       "      <td>-0.02523</td>\n",
       "      <td>-0.03939</td>\n",
       "      <td>-0.00717</td>\n",
       "      <td>-0.04417</td>\n",
       "      <td>-0.02715</td>\n",
       "      <td>-0.00095</td>\n",
       "    </tr>\n",
       "    <tr>\n",
       "      <th>Gender</th>\n",
       "      <td>0.00655</td>\n",
       "      <td>0.01166</td>\n",
       "      <td>0.00598</td>\n",
       "      <td>0.00518</td>\n",
       "      <td>-0.00353</td>\n",
       "      <td>0.01384</td>\n",
       "    </tr>\n",
       "    <tr>\n",
       "      <th>MariStat</th>\n",
       "      <td>-0.01649</td>\n",
       "      <td>-0.01473</td>\n",
       "      <td>-0.02342</td>\n",
       "      <td>-0.00984</td>\n",
       "      <td>-0.01862</td>\n",
       "      <td>-0.01696</td>\n",
       "    </tr>\n",
       "    <tr>\n",
       "      <th>DrivAge</th>\n",
       "      <td>-0.06591</td>\n",
       "      <td>-0.04603</td>\n",
       "      <td>-0.13431</td>\n",
       "      <td>-0.01654</td>\n",
       "      <td>-0.05310</td>\n",
       "      <td>-0.13765</td>\n",
       "    </tr>\n",
       "    <tr>\n",
       "      <th>HasKmLimit</th>\n",
       "      <td>-0.11891</td>\n",
       "      <td>-0.12900</td>\n",
       "      <td>-0.11691</td>\n",
       "      <td>-0.11528</td>\n",
       "      <td>-0.11399</td>\n",
       "      <td>-0.11982</td>\n",
       "    </tr>\n",
       "    <tr>\n",
       "      <th>BonusMalus</th>\n",
       "      <td>0.08380</td>\n",
       "      <td>0.08218</td>\n",
       "      <td>0.08877</td>\n",
       "      <td>0.07977</td>\n",
       "      <td>0.08560</td>\n",
       "      <td>0.08016</td>\n",
       "    </tr>\n",
       "    <tr>\n",
       "      <th>OutUseNb</th>\n",
       "      <td>0.03902</td>\n",
       "      <td>0.04442</td>\n",
       "      <td>0.04236</td>\n",
       "      <td>0.03654</td>\n",
       "      <td>0.03148</td>\n",
       "      <td>0.04022</td>\n",
       "    </tr>\n",
       "    <tr>\n",
       "      <th>RiskArea</th>\n",
       "      <td>0.02863</td>\n",
       "      <td>0.02538</td>\n",
       "      <td>0.03434</td>\n",
       "      <td>0.02386</td>\n",
       "      <td>0.02263</td>\n",
       "      <td>0.03711</td>\n",
       "    </tr>\n",
       "    <tr>\n",
       "      <th>VehUsage_Private</th>\n",
       "      <td>-0.05598</td>\n",
       "      <td>-0.04179</td>\n",
       "      <td>-0.05722</td>\n",
       "      <td>-0.05619</td>\n",
       "      <td>-0.07132</td>\n",
       "      <td>-0.04395</td>\n",
       "    </tr>\n",
       "    <tr>\n",
       "      <th>VehUsage_Private+trip to office</th>\n",
       "      <td>-0.00821</td>\n",
       "      <td>-0.01588</td>\n",
       "      <td>0.00000</td>\n",
       "      <td>-0.00567</td>\n",
       "      <td>0.00000</td>\n",
       "      <td>-0.00977</td>\n",
       "    </tr>\n",
       "    <tr>\n",
       "      <th>VehUsage_Professional</th>\n",
       "      <td>0.07118</td>\n",
       "      <td>0.07891</td>\n",
       "      <td>0.07654</td>\n",
       "      <td>0.06179</td>\n",
       "      <td>0.06968</td>\n",
       "      <td>0.07630</td>\n",
       "    </tr>\n",
       "    <tr>\n",
       "      <th>VehUsage_Professional run</th>\n",
       "      <td>0.03282</td>\n",
       "      <td>0.03664</td>\n",
       "      <td>0.02850</td>\n",
       "      <td>0.03757</td>\n",
       "      <td>0.03228</td>\n",
       "      <td>0.03200</td>\n",
       "    </tr>\n",
       "    <tr>\n",
       "      <th>SocioCateg_CSP1</th>\n",
       "      <td>-0.01375</td>\n",
       "      <td>-0.01303</td>\n",
       "      <td>-0.02174</td>\n",
       "      <td>-0.01393</td>\n",
       "      <td>-0.01229</td>\n",
       "      <td>-0.01347</td>\n",
       "    </tr>\n",
       "    <tr>\n",
       "      <th>SocioCateg_CSP2</th>\n",
       "      <td>-0.02598</td>\n",
       "      <td>-0.02580</td>\n",
       "      <td>-0.03258</td>\n",
       "      <td>-0.02365</td>\n",
       "      <td>-0.02831</td>\n",
       "      <td>-0.02729</td>\n",
       "    </tr>\n",
       "    <tr>\n",
       "      <th>SocioCateg_CSP3</th>\n",
       "      <td>0.02002</td>\n",
       "      <td>0.01712</td>\n",
       "      <td>0.01736</td>\n",
       "      <td>0.01998</td>\n",
       "      <td>0.01874</td>\n",
       "      <td>0.02292</td>\n",
       "    </tr>\n",
       "    <tr>\n",
       "      <th>SocioCateg_CSP4</th>\n",
       "      <td>0.01099</td>\n",
       "      <td>0.00656</td>\n",
       "      <td>0.00663</td>\n",
       "      <td>0.01662</td>\n",
       "      <td>0.01395</td>\n",
       "      <td>0.00178</td>\n",
       "    </tr>\n",
       "    <tr>\n",
       "      <th>SocioCateg_CSP5</th>\n",
       "      <td>0.00395</td>\n",
       "      <td>0.00076</td>\n",
       "      <td>-0.00058</td>\n",
       "      <td>0.00768</td>\n",
       "      <td>-0.00978</td>\n",
       "      <td>0.00473</td>\n",
       "    </tr>\n",
       "    <tr>\n",
       "      <th>SocioCateg_CSP6</th>\n",
       "      <td>0.03178</td>\n",
       "      <td>0.00550</td>\n",
       "      <td>0.03672</td>\n",
       "      <td>0.03157</td>\n",
       "      <td>0.04415</td>\n",
       "      <td>0.02232</td>\n",
       "    </tr>\n",
       "    <tr>\n",
       "      <th>SocioCateg_CSP7</th>\n",
       "      <td>-0.00082</td>\n",
       "      <td>0.00292</td>\n",
       "      <td>-0.00053</td>\n",
       "      <td>0.00270</td>\n",
       "      <td>-0.00090</td>\n",
       "      <td>-0.02961</td>\n",
       "    </tr>\n",
       "    <tr>\n",
       "      <th>DrivAgeSq</th>\n",
       "      <td>0.03532</td>\n",
       "      <td>0.04006</td>\n",
       "      <td>0.08523</td>\n",
       "      <td>0.00438</td>\n",
       "      <td>0.01686</td>\n",
       "      <td>0.08317</td>\n",
       "    </tr>\n",
       "  </tbody>\n",
       "</table>\n",
       "</div>"
      ],
      "text/plain": [
       "                                 overall        0        1        2        3  \\\n",
       "Intercept                       -2.07745 -2.07988 -2.07588 -2.07821 -2.08304   \n",
       "LicAge                          -0.02523 -0.03939 -0.00717 -0.04417 -0.02715   \n",
       "Gender                           0.00655  0.01166  0.00598  0.00518 -0.00353   \n",
       "MariStat                        -0.01649 -0.01473 -0.02342 -0.00984 -0.01862   \n",
       "DrivAge                         -0.06591 -0.04603 -0.13431 -0.01654 -0.05310   \n",
       "HasKmLimit                      -0.11891 -0.12900 -0.11691 -0.11528 -0.11399   \n",
       "BonusMalus                       0.08380  0.08218  0.08877  0.07977  0.08560   \n",
       "OutUseNb                         0.03902  0.04442  0.04236  0.03654  0.03148   \n",
       "RiskArea                         0.02863  0.02538  0.03434  0.02386  0.02263   \n",
       "VehUsage_Private                -0.05598 -0.04179 -0.05722 -0.05619 -0.07132   \n",
       "VehUsage_Private+trip to office -0.00821 -0.01588  0.00000 -0.00567  0.00000   \n",
       "VehUsage_Professional            0.07118  0.07891  0.07654  0.06179  0.06968   \n",
       "VehUsage_Professional run        0.03282  0.03664  0.02850  0.03757  0.03228   \n",
       "SocioCateg_CSP1                 -0.01375 -0.01303 -0.02174 -0.01393 -0.01229   \n",
       "SocioCateg_CSP2                 -0.02598 -0.02580 -0.03258 -0.02365 -0.02831   \n",
       "SocioCateg_CSP3                  0.02002  0.01712  0.01736  0.01998  0.01874   \n",
       "SocioCateg_CSP4                  0.01099  0.00656  0.00663  0.01662  0.01395   \n",
       "SocioCateg_CSP5                  0.00395  0.00076 -0.00058  0.00768 -0.00978   \n",
       "SocioCateg_CSP6                  0.03178  0.00550  0.03672  0.03157  0.04415   \n",
       "SocioCateg_CSP7                 -0.00082  0.00292 -0.00053  0.00270 -0.00090   \n",
       "DrivAgeSq                        0.03532  0.04006  0.08523  0.00438  0.01686   \n",
       "\n",
       "                                       4  \n",
       "Intercept                       -2.07151  \n",
       "LicAge                          -0.00095  \n",
       "Gender                           0.01384  \n",
       "MariStat                        -0.01696  \n",
       "DrivAge                         -0.13765  \n",
       "HasKmLimit                      -0.11982  \n",
       "BonusMalus                       0.08016  \n",
       "OutUseNb                         0.04022  \n",
       "RiskArea                         0.03711  \n",
       "VehUsage_Private                -0.04395  \n",
       "VehUsage_Private+trip to office -0.00977  \n",
       "VehUsage_Professional            0.07630  \n",
       "VehUsage_Professional run        0.03200  \n",
       "SocioCateg_CSP1                 -0.01347  \n",
       "SocioCateg_CSP2                 -0.02729  \n",
       "SocioCateg_CSP3                  0.02292  \n",
       "SocioCateg_CSP4                  0.00178  \n",
       "SocioCateg_CSP5                  0.00473  \n",
       "SocioCateg_CSP6                  0.02232  \n",
       "SocioCateg_CSP7                 -0.02961  \n",
       "DrivAgeSq                        0.08317  "
      ]
     },
     "execution_count": 57,
     "metadata": {},
     "output_type": "execute_result"
    }
   ],
   "source": [
    "# Таблица нормированных коэффициентов по всем данным и на кросс-валидации\n",
    "\n",
    "pmodels = {}\n",
    "pmodels['overall'] = glm_poisson.coef_norm()\n",
    "for x in range(len(glm_poisson.cross_validation_models())):\n",
    "    pmodels[x] = glm_poisson.cross_validation_models()[x].coef_norm()\n",
    "pd.DataFrame.from_dict(pmodels).round(5)"
   ]
  },
  {
   "cell_type": "code",
   "execution_count": 58,
   "metadata": {
    "colab": {
     "base_uri": "https://localhost:8080/",
     "height": 34
    },
    "colab_type": "code",
    "id": "T9I59UXGpYlh",
    "outputId": "df1f289c-4059-492e-da42-55d08fbb3fdf"
   },
   "outputs": [
    {
     "name": "stdout",
     "output_type": "stream",
     "text": [
      "glm prediction progress: |████████████████████████████████████████████████| 100%\n",
      "glm prediction progress: |████████████████████████████████████████████████| 100%\n",
      "glm prediction progress: |████████████████████████████████████████████████| 100%\n"
     ]
    }
   ],
   "source": [
    "# Построение прогнозных значений для обучающей, валидационной и тестовой выборок\n",
    "\n",
    "ind_train_pred = glm_poisson.predict(h2o_train_ind).as_data_frame()\n",
    "ind_valid_pred = glm_poisson.predict(h2o_valid_ind).as_data_frame()\n",
    "ind_test_pred = glm_poisson.predict(h2o_test_ind).as_data_frame()"
   ]
  },
  {
   "cell_type": "code",
   "execution_count": 59,
   "metadata": {
    "colab": {},
    "colab_type": "code",
    "id": "g00U1gQBp_Wq"
   },
   "outputs": [],
   "source": [
    "import warnings\n",
    "warnings.filterwarnings(\"ignore\")\n",
    "from sklearn.metrics import accuracy_score, f1_score, confusion_matrix, precision_score, recall_score, roc_auc_score"
   ]
  },
  {
   "cell_type": "code",
   "execution_count": 60,
   "metadata": {},
   "outputs": [
    {
     "data": {
      "text/plain": [
       "0.09471764589122668"
      ]
     },
     "execution_count": 60,
     "metadata": {},
     "output_type": "execute_result"
    }
   ],
   "source": [
    "y_train_ind[y_train_ind==1].sum() / y_train_ind.shape[0]"
   ]
  },
  {
   "cell_type": "code",
   "execution_count": 61,
   "metadata": {},
   "outputs": [],
   "source": [
    "# confusion_matrix(y_true, y_pred)\n",
    "\n",
    "#что-то пошло не так"
   ]
  },
  {
   "cell_type": "code",
   "execution_count": 62,
   "metadata": {
    "colab": {
     "base_uri": "https://localhost:8080/",
     "height": 34
    },
    "colab_type": "code",
    "id": "oVwiMaWlqRCz",
    "outputId": "1a1e3b44-ff42-4a04-924d-608d65ef2958"
   },
   "outputs": [
    {
     "name": "stdout",
     "output_type": "stream",
     "text": [
      "TRAIN DATASET\n",
      "class 1%: 9.471764589122667 1\n",
      "Accuracy:  0.9053\n",
      "f1:  0.0\n",
      "precision:  0.0\n",
      "recall:  0.0\n",
      "ROC AUC:  0.5653 \n",
      "\n",
      "VALID DATASET\n",
      "class 1%: 9.471764589122667 1\n",
      "Accuracy:  0.9068\n",
      "f1:  0.0\n",
      "precision:  0.0\n",
      "recall:  0.0\n",
      "ROC AUC:  0.564 \n",
      "\n",
      "TEST DATASET\n",
      "class 1%: 9.471764589122667 1\n",
      "Accuracy:  0.9059\n",
      "f1:  0.0\n",
      "precision:  0.0\n",
      "recall:  0.0\n",
      "ROC AUC:  0.5685 \n",
      "\n"
     ]
    }
   ],
   "source": [
    "# Выведем импортированные выше метрики классификации для обучающей, валидационной и тестовой выборок\n",
    "\n",
    "for label, y_true, y_pred in [('Train Dataset', y_train_ind, ind_train_pred),\n",
    "                              ('Valid Dataset', y_valid_ind, ind_valid_pred),\n",
    "                              ('Test Dataset', y_test_ind, ind_test_pred)]:\n",
    "    print(label.upper())\n",
    "    print('class 1%:', y_train_ind[y_train_ind==1].sum() / y_train_ind.shape[0]*100, 1)\n",
    "    print('Accuracy: ', round(accuracy_score(y_true, round(y_pred)),4))\n",
    "    print('f1: ', round(f1_score(y_true, round(y_pred)),4))\n",
    "    print('precision: ', round(precision_score(y_true, round(y_pred)),4))\n",
    "    print('recall: ', round(recall_score(y_true, round(y_pred)),4))\n",
    "    print('ROC AUC: ', round(roc_auc_score(y_true, y_pred),4), '\\n')"
   ]
  },
  {
   "cell_type": "markdown",
   "metadata": {
    "colab_type": "text",
    "id": "2TNOSiKDs-U6"
   },
   "source": [
    "Какие проблемы вы здесь видите? Как можно улучшить данный результат?"
   ]
  },
  {
   "cell_type": "markdown",
   "metadata": {},
   "source": [
    "Итак, учитывая что ROC AUC имеет значение около 0.5 к которому стремятся случайные значения (и это при условии, что обычно ROC AUC устойчива к несбалансированным данным), а метрики f1, precision, recall равны 0.0, можно одназначно утверждать, что наша модель, из-за сильного дисбаланса классов, показала низкое качество результатов для данного датасета. Улучшить полученный результат возможно за счет увеличения количества данных для обучения нашей модели или требует значительной доработки модели."
   ]
  },
  {
   "cell_type": "code",
   "execution_count": null,
   "metadata": {},
   "outputs": [],
   "source": []
  }
 ],
 "metadata": {
  "colab": {
   "collapsed_sections": [
    "Xljx8j0-_jXR"
   ],
   "name": "GB Lesson 2.ipynb",
   "provenance": []
  },
  "kernelspec": {
   "display_name": "Python 3",
   "language": "python",
   "name": "python3"
  },
  "language_info": {
   "codemirror_mode": {
    "name": "ipython",
    "version": 3
   },
   "file_extension": ".py",
   "mimetype": "text/x-python",
   "name": "python",
   "nbconvert_exporter": "python",
   "pygments_lexer": "ipython3",
   "version": "3.7.7"
  }
 },
 "nbformat": 4,
 "nbformat_minor": 1
}
